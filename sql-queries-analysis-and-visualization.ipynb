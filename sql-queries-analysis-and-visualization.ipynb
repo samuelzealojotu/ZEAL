{
 "cells": [
  {
   "cell_type": "markdown",
   "metadata": {
    "papermill": {
     "duration": 0.048214,
     "end_time": "2024-07-29T13:40:44.758771",
     "exception": false,
     "start_time": "2024-07-29T13:40:44.710557",
     "status": "completed"
    },
    "tags": []
   },
   "source": [
    "# SQL Queries, Analysis and Visualization\n",
    "This notebook is intended to provide an overview of SQL - queries, functions, keywords and concepts, and to demonstrate how SQLite3 queries can be executed using Python in a notebook environment.\n",
    "\n",
    "The notebook is beginner friendly and queries become progressively more complicated, starting from the SQL fundamentals. The SQL implementation used for this notebook is SQLite3, however, note that different implementations of SQL (MySQL, Oracle, PosgreSQL etc.) use different syntax, therefore, you should refer to the documentation of the specific SQL implementation you are using. Although the syntax differs across platforms, the concepts of using the SQL language are the same, so you can benefit from understanding different SQL implementations.\n",
    "\n",
    "The database used is the SQLite version of the Sakila Sample Database, which is an excellent dataset for practicing SQL. You can find detailed information about the database [here](https://www.kaggle.com/atanaskanev/sqlite-sakila-sample-database)."
   ]
  },
  {
   "cell_type": "markdown",
   "metadata": {
    "papermill": {
     "duration": 0.042962,
     "end_time": "2024-07-29T13:40:44.846877",
     "exception": false,
     "start_time": "2024-07-29T13:40:44.803915",
     "status": "completed"
    },
    "tags": []
   },
   "source": [
    "# Table of Contents\n",
    "Click on any heading to jump straight to the content\n",
    "\n",
    "[<font size=\"5\">Preparation</font>](#subsection-one)\n",
    "* [SQL Overview](#subsection-one)\n",
    "* [Importing libraries](#subsection-two)\n",
    "* [Connecting to the database](#subsection-three)\n",
    "\n",
    "[<font size=\"5\">SQL Basics</font>](#section-two)\n",
    "* [Querying a specific table](#subsection-four)\n",
    "* [Basic SQL Functions](#subsection-five)\n",
    "* [COUNT()](#subsection-six)\n",
    "* [MIN(), MAX(), AVERAGE() and Aggregation](#subsection-seven)\n",
    "\n",
    "[<font size=\"5\">More functions, keywords and concepts (examples)</font>](#section-three)\n",
    "* [How many movies are there in each rating category?](#subsection-eight)\n",
    "* [What is the total number of movies in each category held in inventory?](#subsection-nine)\n",
    "* [Which movies of rating 'PG' are held in highest quantity in the inventory?](#subsection-ten)\n",
    "* [What movies has each actor starred in and who has starred in the most movies?](#subsection-eleven)\n",
    "* [Overdue rentals](#subsection-twelve)\n",
    "* [Payments per rental, payments per date, payments per store](#subsection-thirteen)\n",
    "\n",
    "[<font size=\"5\">Demonstration of Python's merge - equivalent to SQL's JOIN</font>](#section-four)\n",
    "* [Which movies of rating 'PG' are held in highest quantity in the inventory? (Python version)](#subsection-fourteen)"
   ]
  },
  {
   "cell_type": "markdown",
   "metadata": {
    "papermill": {
     "duration": 0.044373,
     "end_time": "2024-07-29T13:40:44.936538",
     "exception": false,
     "start_time": "2024-07-29T13:40:44.892165",
     "status": "completed"
    },
    "tags": []
   },
   "source": [
    "<a id=\"subsection-one\"></a>\n",
    "## SQL Overview\n",
    "\n",
    "SQL is the language used to interact with relational databases. Relational databases store data in tables (rows and columns), which are connected to each other based on some relationship, hence \"relational\". There is a huge variety of online sources to learn about SQL, so I will not go into all the details. I refer you to this [short 4-minute video](https://www.youtube.com/watch?v=27axs9dO7AE) if you want a quick overview of SQL.\n",
    "\n",
    "There are a few things I want to mention:\n",
    "* First, readability is very important when writing SQL and especially when queries become longer and more complicated. Thefore, it is a good practice to have all SQL keywords capitalized, so they can be easiliy distinguished from column names or tables.\n",
    "* It is also a good practice to include ; at the end of the SQL queries, even if the specific SQL implementation does not require it. For example, SQLite3, which is used in this notebook does not require ; at the end of the queries, but it is still placed.\n",
    "* The order of SQL clauses is important and if clauses are not ordered as required in a query(e.g. placing WHERE after GROUP BY), this will produce an error. Here is a list with the order in which SQL clauses are to be used. Note that the list does not include all the possible clauses, only those used in this notebook:\n",
    "<center>\n",
    " <br>SELECT<br>\n",
    "FROM<br>\n",
    "JOIN ON<br>\n",
    "WHERE<br>\n",
    "GROUP BY<br>\n",
    "HAVING<br>\n",
    "ORDER BY<br>\n",
    "LIMIT\n",
    ";"
   ]
  },
  {
   "cell_type": "markdown",
   "metadata": {
    "papermill": {
     "duration": 0.043274,
     "end_time": "2024-07-29T13:40:45.025739",
     "exception": false,
     "start_time": "2024-07-29T13:40:44.982465",
     "status": "completed"
    },
    "tags": []
   },
   "source": [
    "<a id=\"subsection-two\"></a>\n",
    "### Importing libraries"
   ]
  },
  {
   "cell_type": "code",
   "execution_count": 1,
   "metadata": {
    "execution": {
     "iopub.execute_input": "2024-07-29T13:40:45.122159Z",
     "iopub.status.busy": "2024-07-29T13:40:45.121371Z",
     "iopub.status.idle": "2024-07-29T13:40:45.124932Z",
     "shell.execute_reply": "2024-07-29T13:40:45.124196Z",
     "shell.execute_reply.started": "2024-07-29T13:18:39.460143Z"
    },
    "papermill": {
     "duration": 0.05308,
     "end_time": "2024-07-29T13:40:45.125192",
     "exception": false,
     "start_time": "2024-07-29T13:40:45.072112",
     "status": "completed"
    },
    "tags": []
   },
   "outputs": [],
   "source": [
    "import numpy as np\n",
    "import pandas as pd\n",
    "import sqlite3\n",
    "import matplotlib.pyplot as plt"
   ]
  },
  {
   "cell_type": "code",
   "execution_count": 2,
   "metadata": {
    "execution": {
     "iopub.execute_input": "2024-07-29T13:40:45.220506Z",
     "iopub.status.busy": "2024-07-29T13:40:45.219612Z",
     "iopub.status.idle": "2024-07-29T13:40:45.223160Z",
     "shell.execute_reply": "2024-07-29T13:40:45.222437Z"
    },
    "papermill": {
     "duration": 0.053774,
     "end_time": "2024-07-29T13:40:45.223340",
     "exception": false,
     "start_time": "2024-07-29T13:40:45.169566",
     "status": "completed"
    },
    "tags": []
   },
   "outputs": [],
   "source": [
    "pd.options.display.max_rows = 50 # maximum number of rows to display"
   ]
  },
  {
   "cell_type": "markdown",
   "metadata": {
    "papermill": {
     "duration": 0.043137,
     "end_time": "2024-07-29T13:40:45.310969",
     "exception": false,
     "start_time": "2024-07-29T13:40:45.267832",
     "status": "completed"
    },
    "tags": []
   },
   "source": [
    "<a id=\"subsection-three\"></a>\n",
    "### Connecting to the database"
   ]
  },
  {
   "cell_type": "code",
   "execution_count": 3,
   "metadata": {
    "execution": {
     "iopub.execute_input": "2024-07-29T13:40:45.405906Z",
     "iopub.status.busy": "2024-07-29T13:40:45.404975Z",
     "iopub.status.idle": "2024-07-29T13:40:45.408417Z",
     "shell.execute_reply": "2024-07-29T13:40:45.407695Z",
     "shell.execute_reply.started": "2024-07-29T13:19:00.800625Z"
    },
    "papermill": {
     "duration": 0.053751,
     "end_time": "2024-07-29T13:40:45.408587",
     "exception": false,
     "start_time": "2024-07-29T13:40:45.354836",
     "status": "completed"
    },
    "tags": []
   },
   "outputs": [],
   "source": [
    "database_path = \"../input/sqlite-sakila-sample-database/sqlite-sakila.db\""
   ]
  },
  {
   "cell_type": "code",
   "execution_count": 4,
   "metadata": {
    "execution": {
     "iopub.execute_input": "2024-07-29T13:40:45.503049Z",
     "iopub.status.busy": "2024-07-29T13:40:45.502268Z",
     "iopub.status.idle": "2024-07-29T13:40:45.514144Z",
     "shell.execute_reply": "2024-07-29T13:40:45.513458Z",
     "shell.execute_reply.started": "2024-07-29T13:19:19.883441Z"
    },
    "papermill": {
     "duration": 0.060764,
     "end_time": "2024-07-29T13:40:45.514323",
     "exception": false,
     "start_time": "2024-07-29T13:40:45.453559",
     "status": "completed"
    },
    "tags": []
   },
   "outputs": [],
   "source": [
    "connection = sqlite3.connect(database_path)"
   ]
  },
  {
   "cell_type": "markdown",
   "metadata": {
    "papermill": {
     "duration": 0.043381,
     "end_time": "2024-07-29T13:40:45.602238",
     "exception": false,
     "start_time": "2024-07-29T13:40:45.558857",
     "status": "completed"
    },
    "tags": []
   },
   "source": [
    "We can now query the database directly in this environment using pandas' read_sql method.\n",
    "We will first see what tables are available in the dataset. This can be done by accessing the sqlite_master table, which is a table containing the information about the database schema. The * in the `SELECT` clause is used to select all rows, the `FROM` clause specifies which table to select from, and the WHERE clause filters the rows to display only those whose 'type' column is table:"
   ]
  },
  {
   "cell_type": "code",
   "execution_count": 5,
   "metadata": {
    "execution": {
     "iopub.execute_input": "2024-07-29T13:40:45.695957Z",
     "iopub.status.busy": "2024-07-29T13:40:45.695129Z",
     "iopub.status.idle": "2024-07-29T13:40:45.751567Z",
     "shell.execute_reply": "2024-07-29T13:40:45.752172Z",
     "shell.execute_reply.started": "2024-07-29T13:19:48.174855Z"
    },
    "papermill": {
     "duration": 0.105439,
     "end_time": "2024-07-29T13:40:45.752372",
     "exception": false,
     "start_time": "2024-07-29T13:40:45.646933",
     "status": "completed"
    },
    "scrolled": true,
    "tags": []
   },
   "outputs": [
    {
     "data": {
      "text/html": [
       "<div>\n",
       "<style scoped>\n",
       "    .dataframe tbody tr th:only-of-type {\n",
       "        vertical-align: middle;\n",
       "    }\n",
       "\n",
       "    .dataframe tbody tr th {\n",
       "        vertical-align: top;\n",
       "    }\n",
       "\n",
       "    .dataframe thead th {\n",
       "        text-align: right;\n",
       "    }\n",
       "</style>\n",
       "<table border=\"1\" class=\"dataframe\">\n",
       "  <thead>\n",
       "    <tr style=\"text-align: right;\">\n",
       "      <th></th>\n",
       "      <th>type</th>\n",
       "      <th>name</th>\n",
       "      <th>tbl_name</th>\n",
       "      <th>rootpage</th>\n",
       "      <th>sql</th>\n",
       "    </tr>\n",
       "  </thead>\n",
       "  <tbody>\n",
       "    <tr>\n",
       "      <th>0</th>\n",
       "      <td>table</td>\n",
       "      <td>actor</td>\n",
       "      <td>actor</td>\n",
       "      <td>2</td>\n",
       "      <td>CREATE TABLE actor (\\n  actor_id numeric NOT N...</td>\n",
       "    </tr>\n",
       "    <tr>\n",
       "      <th>1</th>\n",
       "      <td>table</td>\n",
       "      <td>country</td>\n",
       "      <td>country</td>\n",
       "      <td>5</td>\n",
       "      <td>CREATE TABLE country (\\n  country_id SMALLINT ...</td>\n",
       "    </tr>\n",
       "    <tr>\n",
       "      <th>2</th>\n",
       "      <td>table</td>\n",
       "      <td>city</td>\n",
       "      <td>city</td>\n",
       "      <td>7</td>\n",
       "      <td>CREATE TABLE city (\\n  city_id int NOT NULL,\\n...</td>\n",
       "    </tr>\n",
       "    <tr>\n",
       "      <th>3</th>\n",
       "      <td>table</td>\n",
       "      <td>address</td>\n",
       "      <td>address</td>\n",
       "      <td>10</td>\n",
       "      <td>CREATE TABLE address (\\n  address_id int NOT N...</td>\n",
       "    </tr>\n",
       "    <tr>\n",
       "      <th>4</th>\n",
       "      <td>table</td>\n",
       "      <td>language</td>\n",
       "      <td>language</td>\n",
       "      <td>13</td>\n",
       "      <td>CREATE TABLE language (\\n  language_id SMALLIN...</td>\n",
       "    </tr>\n",
       "    <tr>\n",
       "      <th>5</th>\n",
       "      <td>table</td>\n",
       "      <td>category</td>\n",
       "      <td>category</td>\n",
       "      <td>15</td>\n",
       "      <td>CREATE TABLE category (\\n  category_id SMALLIN...</td>\n",
       "    </tr>\n",
       "    <tr>\n",
       "      <th>6</th>\n",
       "      <td>table</td>\n",
       "      <td>customer</td>\n",
       "      <td>customer</td>\n",
       "      <td>19</td>\n",
       "      <td>CREATE TABLE customer (\\n  customer_id INT NOT...</td>\n",
       "    </tr>\n",
       "    <tr>\n",
       "      <th>7</th>\n",
       "      <td>table</td>\n",
       "      <td>film</td>\n",
       "      <td>film</td>\n",
       "      <td>24</td>\n",
       "      <td>CREATE TABLE film (\\n  film_id int NOT NULL,\\n...</td>\n",
       "    </tr>\n",
       "    <tr>\n",
       "      <th>8</th>\n",
       "      <td>table</td>\n",
       "      <td>film_actor</td>\n",
       "      <td>film_actor</td>\n",
       "      <td>28</td>\n",
       "      <td>CREATE TABLE film_actor (\\n  actor_id INT NOT ...</td>\n",
       "    </tr>\n",
       "    <tr>\n",
       "      <th>9</th>\n",
       "      <td>table</td>\n",
       "      <td>film_category</td>\n",
       "      <td>film_category</td>\n",
       "      <td>33</td>\n",
       "      <td>CREATE TABLE film_category (\\n  film_id INT NO...</td>\n",
       "    </tr>\n",
       "    <tr>\n",
       "      <th>10</th>\n",
       "      <td>table</td>\n",
       "      <td>film_text</td>\n",
       "      <td>film_text</td>\n",
       "      <td>37</td>\n",
       "      <td>CREATE TABLE film_text (\\n  film_id SMALLINT N...</td>\n",
       "    </tr>\n",
       "    <tr>\n",
       "      <th>11</th>\n",
       "      <td>table</td>\n",
       "      <td>inventory</td>\n",
       "      <td>inventory</td>\n",
       "      <td>39</td>\n",
       "      <td>CREATE TABLE inventory (\\n  inventory_id INT N...</td>\n",
       "    </tr>\n",
       "    <tr>\n",
       "      <th>12</th>\n",
       "      <td>table</td>\n",
       "      <td>staff</td>\n",
       "      <td>staff</td>\n",
       "      <td>43</td>\n",
       "      <td>CREATE TABLE staff (\\n  staff_id SMALLINT NOT ...</td>\n",
       "    </tr>\n",
       "    <tr>\n",
       "      <th>13</th>\n",
       "      <td>table</td>\n",
       "      <td>store</td>\n",
       "      <td>store</td>\n",
       "      <td>48</td>\n",
       "      <td>CREATE TABLE store (\\n  store_id INT NOT NULL,...</td>\n",
       "    </tr>\n",
       "    <tr>\n",
       "      <th>14</th>\n",
       "      <td>table</td>\n",
       "      <td>payment</td>\n",
       "      <td>payment</td>\n",
       "      <td>52</td>\n",
       "      <td>CREATE TABLE payment (\\n  payment_id int NOT N...</td>\n",
       "    </tr>\n",
       "    <tr>\n",
       "      <th>15</th>\n",
       "      <td>table</td>\n",
       "      <td>rental</td>\n",
       "      <td>rental</td>\n",
       "      <td>56</td>\n",
       "      <td>CREATE TABLE rental (\\n  rental_id INT NOT NUL...</td>\n",
       "    </tr>\n",
       "  </tbody>\n",
       "</table>\n",
       "</div>"
      ],
      "text/plain": [
       "     type           name       tbl_name  rootpage  \\\n",
       "0   table          actor          actor         2   \n",
       "1   table        country        country         5   \n",
       "2   table           city           city         7   \n",
       "3   table        address        address        10   \n",
       "4   table       language       language        13   \n",
       "5   table       category       category        15   \n",
       "6   table       customer       customer        19   \n",
       "7   table           film           film        24   \n",
       "8   table     film_actor     film_actor        28   \n",
       "9   table  film_category  film_category        33   \n",
       "10  table      film_text      film_text        37   \n",
       "11  table      inventory      inventory        39   \n",
       "12  table          staff          staff        43   \n",
       "13  table          store          store        48   \n",
       "14  table        payment        payment        52   \n",
       "15  table         rental         rental        56   \n",
       "\n",
       "                                                  sql  \n",
       "0   CREATE TABLE actor (\\n  actor_id numeric NOT N...  \n",
       "1   CREATE TABLE country (\\n  country_id SMALLINT ...  \n",
       "2   CREATE TABLE city (\\n  city_id int NOT NULL,\\n...  \n",
       "3   CREATE TABLE address (\\n  address_id int NOT N...  \n",
       "4   CREATE TABLE language (\\n  language_id SMALLIN...  \n",
       "5   CREATE TABLE category (\\n  category_id SMALLIN...  \n",
       "6   CREATE TABLE customer (\\n  customer_id INT NOT...  \n",
       "7   CREATE TABLE film (\\n  film_id int NOT NULL,\\n...  \n",
       "8   CREATE TABLE film_actor (\\n  actor_id INT NOT ...  \n",
       "9   CREATE TABLE film_category (\\n  film_id INT NO...  \n",
       "10  CREATE TABLE film_text (\\n  film_id SMALLINT N...  \n",
       "11  CREATE TABLE inventory (\\n  inventory_id INT N...  \n",
       "12  CREATE TABLE staff (\\n  staff_id SMALLINT NOT ...  \n",
       "13  CREATE TABLE store (\\n  store_id INT NOT NULL,...  \n",
       "14  CREATE TABLE payment (\\n  payment_id int NOT N...  \n",
       "15  CREATE TABLE rental (\\n  rental_id INT NOT NUL...  "
      ]
     },
     "execution_count": 5,
     "metadata": {},
     "output_type": "execute_result"
    }
   ],
   "source": [
    "tables = pd.read_sql(\"\"\"\n",
    "\n",
    "SELECT *\n",
    "FROM sqlite_master\n",
    "WHERE type = 'table';\n",
    "\n",
    "\"\"\", connection)\n",
    "\n",
    "tables"
   ]
  },
  {
   "cell_type": "markdown",
   "metadata": {
    "papermill": {
     "duration": 0.045151,
     "end_time": "2024-07-29T13:40:45.842346",
     "exception": false,
     "start_time": "2024-07-29T13:40:45.797195",
     "status": "completed"
    },
    "tags": []
   },
   "source": [
    "<a id=\"section-two\"></a>\n",
    "## SQL Basics"
   ]
  },
  {
   "cell_type": "markdown",
   "metadata": {
    "papermill": {
     "duration": 0.048338,
     "end_time": "2024-07-29T13:40:45.935544",
     "exception": false,
     "start_time": "2024-07-29T13:40:45.887206",
     "status": "completed"
    },
    "tags": []
   },
   "source": [
    "<a id=\"subsection-four\"></a>\n",
    "### Querying a specific table\n",
    "Let's check what data the actor table contains:"
   ]
  },
  {
   "cell_type": "code",
   "execution_count": 6,
   "metadata": {
    "execution": {
     "iopub.execute_input": "2024-07-29T13:40:46.046357Z",
     "iopub.status.busy": "2024-07-29T13:40:46.045070Z",
     "iopub.status.idle": "2024-07-29T13:40:46.073133Z",
     "shell.execute_reply": "2024-07-29T13:40:46.072260Z",
     "shell.execute_reply.started": "2024-07-29T13:20:18.025045Z"
    },
    "papermill": {
     "duration": 0.078742,
     "end_time": "2024-07-29T13:40:46.073359",
     "exception": false,
     "start_time": "2024-07-29T13:40:45.994617",
     "status": "completed"
    },
    "scrolled": true,
    "tags": []
   },
   "outputs": [
    {
     "data": {
      "text/html": [
       "<div>\n",
       "<style scoped>\n",
       "    .dataframe tbody tr th:only-of-type {\n",
       "        vertical-align: middle;\n",
       "    }\n",
       "\n",
       "    .dataframe tbody tr th {\n",
       "        vertical-align: top;\n",
       "    }\n",
       "\n",
       "    .dataframe thead th {\n",
       "        text-align: right;\n",
       "    }\n",
       "</style>\n",
       "<table border=\"1\" class=\"dataframe\">\n",
       "  <thead>\n",
       "    <tr style=\"text-align: right;\">\n",
       "      <th></th>\n",
       "      <th>actor_id</th>\n",
       "      <th>first_name</th>\n",
       "      <th>last_name</th>\n",
       "      <th>last_update</th>\n",
       "    </tr>\n",
       "  </thead>\n",
       "  <tbody>\n",
       "    <tr>\n",
       "      <th>0</th>\n",
       "      <td>1</td>\n",
       "      <td>PENELOPE</td>\n",
       "      <td>GUINESS</td>\n",
       "      <td>2021-03-06 15:51:59</td>\n",
       "    </tr>\n",
       "    <tr>\n",
       "      <th>1</th>\n",
       "      <td>2</td>\n",
       "      <td>NICK</td>\n",
       "      <td>WAHLBERG</td>\n",
       "      <td>2021-03-06 15:51:59</td>\n",
       "    </tr>\n",
       "    <tr>\n",
       "      <th>2</th>\n",
       "      <td>3</td>\n",
       "      <td>ED</td>\n",
       "      <td>CHASE</td>\n",
       "      <td>2021-03-06 15:51:59</td>\n",
       "    </tr>\n",
       "    <tr>\n",
       "      <th>3</th>\n",
       "      <td>4</td>\n",
       "      <td>JENNIFER</td>\n",
       "      <td>DAVIS</td>\n",
       "      <td>2021-03-06 15:51:59</td>\n",
       "    </tr>\n",
       "    <tr>\n",
       "      <th>4</th>\n",
       "      <td>5</td>\n",
       "      <td>JOHNNY</td>\n",
       "      <td>LOLLOBRIGIDA</td>\n",
       "      <td>2021-03-06 15:51:59</td>\n",
       "    </tr>\n",
       "    <tr>\n",
       "      <th>...</th>\n",
       "      <td>...</td>\n",
       "      <td>...</td>\n",
       "      <td>...</td>\n",
       "      <td>...</td>\n",
       "    </tr>\n",
       "    <tr>\n",
       "      <th>195</th>\n",
       "      <td>196</td>\n",
       "      <td>BELA</td>\n",
       "      <td>WALKEN</td>\n",
       "      <td>2021-03-06 15:52:00</td>\n",
       "    </tr>\n",
       "    <tr>\n",
       "      <th>196</th>\n",
       "      <td>197</td>\n",
       "      <td>REESE</td>\n",
       "      <td>WEST</td>\n",
       "      <td>2021-03-06 15:52:00</td>\n",
       "    </tr>\n",
       "    <tr>\n",
       "      <th>197</th>\n",
       "      <td>198</td>\n",
       "      <td>MARY</td>\n",
       "      <td>KEITEL</td>\n",
       "      <td>2021-03-06 15:52:00</td>\n",
       "    </tr>\n",
       "    <tr>\n",
       "      <th>198</th>\n",
       "      <td>199</td>\n",
       "      <td>JULIA</td>\n",
       "      <td>FAWCETT</td>\n",
       "      <td>2021-03-06 15:52:00</td>\n",
       "    </tr>\n",
       "    <tr>\n",
       "      <th>199</th>\n",
       "      <td>200</td>\n",
       "      <td>THORA</td>\n",
       "      <td>TEMPLE</td>\n",
       "      <td>2021-03-06 15:52:00</td>\n",
       "    </tr>\n",
       "  </tbody>\n",
       "</table>\n",
       "<p>200 rows × 4 columns</p>\n",
       "</div>"
      ],
      "text/plain": [
       "     actor_id first_name     last_name          last_update\n",
       "0           1   PENELOPE       GUINESS  2021-03-06 15:51:59\n",
       "1           2       NICK      WAHLBERG  2021-03-06 15:51:59\n",
       "2           3         ED         CHASE  2021-03-06 15:51:59\n",
       "3           4   JENNIFER         DAVIS  2021-03-06 15:51:59\n",
       "4           5     JOHNNY  LOLLOBRIGIDA  2021-03-06 15:51:59\n",
       "..        ...        ...           ...                  ...\n",
       "195       196       BELA        WALKEN  2021-03-06 15:52:00\n",
       "196       197      REESE          WEST  2021-03-06 15:52:00\n",
       "197       198       MARY        KEITEL  2021-03-06 15:52:00\n",
       "198       199      JULIA       FAWCETT  2021-03-06 15:52:00\n",
       "199       200      THORA        TEMPLE  2021-03-06 15:52:00\n",
       "\n",
       "[200 rows x 4 columns]"
      ]
     },
     "execution_count": 6,
     "metadata": {},
     "output_type": "execute_result"
    }
   ],
   "source": [
    "pd.read_sql(\"\"\"\n",
    "\n",
    "SELECT *\n",
    "FROM actor;\n",
    "\n",
    "\"\"\", connection)"
   ]
  },
  {
   "cell_type": "markdown",
   "metadata": {
    "papermill": {
     "duration": 0.045253,
     "end_time": "2024-07-29T13:40:46.179339",
     "exception": false,
     "start_time": "2024-07-29T13:40:46.134086",
     "status": "completed"
    },
    "tags": []
   },
   "source": [
    "And the film table:"
   ]
  },
  {
   "cell_type": "code",
   "execution_count": 7,
   "metadata": {
    "execution": {
     "iopub.execute_input": "2024-07-29T13:40:46.277476Z",
     "iopub.status.busy": "2024-07-29T13:40:46.276623Z",
     "iopub.status.idle": "2024-07-29T13:40:46.337444Z",
     "shell.execute_reply": "2024-07-29T13:40:46.336624Z",
     "shell.execute_reply.started": "2024-07-29T13:20:32.396840Z"
    },
    "papermill": {
     "duration": 0.112401,
     "end_time": "2024-07-29T13:40:46.337623",
     "exception": false,
     "start_time": "2024-07-29T13:40:46.225222",
     "status": "completed"
    },
    "scrolled": true,
    "tags": []
   },
   "outputs": [
    {
     "data": {
      "text/html": [
       "<div>\n",
       "<style scoped>\n",
       "    .dataframe tbody tr th:only-of-type {\n",
       "        vertical-align: middle;\n",
       "    }\n",
       "\n",
       "    .dataframe tbody tr th {\n",
       "        vertical-align: top;\n",
       "    }\n",
       "\n",
       "    .dataframe thead th {\n",
       "        text-align: right;\n",
       "    }\n",
       "</style>\n",
       "<table border=\"1\" class=\"dataframe\">\n",
       "  <thead>\n",
       "    <tr style=\"text-align: right;\">\n",
       "      <th></th>\n",
       "      <th>film_id</th>\n",
       "      <th>title</th>\n",
       "      <th>description</th>\n",
       "      <th>release_year</th>\n",
       "      <th>language_id</th>\n",
       "      <th>original_language_id</th>\n",
       "      <th>rental_duration</th>\n",
       "      <th>rental_rate</th>\n",
       "      <th>length</th>\n",
       "      <th>replacement_cost</th>\n",
       "      <th>rating</th>\n",
       "      <th>special_features</th>\n",
       "      <th>last_update</th>\n",
       "    </tr>\n",
       "  </thead>\n",
       "  <tbody>\n",
       "    <tr>\n",
       "      <th>0</th>\n",
       "      <td>1</td>\n",
       "      <td>ACADEMY DINOSAUR</td>\n",
       "      <td>A Epic Drama of a Feminist And a Mad Scientist...</td>\n",
       "      <td>2006</td>\n",
       "      <td>1</td>\n",
       "      <td>None</td>\n",
       "      <td>6</td>\n",
       "      <td>0.99</td>\n",
       "      <td>86</td>\n",
       "      <td>20.99</td>\n",
       "      <td>PG</td>\n",
       "      <td>Deleted Scenes,Behind the Scenes</td>\n",
       "      <td>2021-03-06 15:52:00</td>\n",
       "    </tr>\n",
       "    <tr>\n",
       "      <th>1</th>\n",
       "      <td>2</td>\n",
       "      <td>ACE GOLDFINGER</td>\n",
       "      <td>A Astounding Epistle of a Database Administrat...</td>\n",
       "      <td>2006</td>\n",
       "      <td>1</td>\n",
       "      <td>None</td>\n",
       "      <td>3</td>\n",
       "      <td>4.99</td>\n",
       "      <td>48</td>\n",
       "      <td>12.99</td>\n",
       "      <td>G</td>\n",
       "      <td>Trailers,Deleted Scenes</td>\n",
       "      <td>2021-03-06 15:52:00</td>\n",
       "    </tr>\n",
       "    <tr>\n",
       "      <th>2</th>\n",
       "      <td>3</td>\n",
       "      <td>ADAPTATION HOLES</td>\n",
       "      <td>A Astounding Reflection of a Lumberjack And a ...</td>\n",
       "      <td>2006</td>\n",
       "      <td>1</td>\n",
       "      <td>None</td>\n",
       "      <td>7</td>\n",
       "      <td>2.99</td>\n",
       "      <td>50</td>\n",
       "      <td>18.99</td>\n",
       "      <td>NC-17</td>\n",
       "      <td>Trailers,Deleted Scenes</td>\n",
       "      <td>2021-03-06 15:52:00</td>\n",
       "    </tr>\n",
       "    <tr>\n",
       "      <th>3</th>\n",
       "      <td>4</td>\n",
       "      <td>AFFAIR PREJUDICE</td>\n",
       "      <td>A Fanciful Documentary of a Frisbee And a Lumb...</td>\n",
       "      <td>2006</td>\n",
       "      <td>1</td>\n",
       "      <td>None</td>\n",
       "      <td>5</td>\n",
       "      <td>2.99</td>\n",
       "      <td>117</td>\n",
       "      <td>26.99</td>\n",
       "      <td>G</td>\n",
       "      <td>Commentaries,Behind the Scenes</td>\n",
       "      <td>2021-03-06 15:52:00</td>\n",
       "    </tr>\n",
       "    <tr>\n",
       "      <th>4</th>\n",
       "      <td>5</td>\n",
       "      <td>AFRICAN EGG</td>\n",
       "      <td>A Fast-Paced Documentary of a Pastry Chef And ...</td>\n",
       "      <td>2006</td>\n",
       "      <td>1</td>\n",
       "      <td>None</td>\n",
       "      <td>6</td>\n",
       "      <td>2.99</td>\n",
       "      <td>130</td>\n",
       "      <td>22.99</td>\n",
       "      <td>G</td>\n",
       "      <td>Deleted Scenes</td>\n",
       "      <td>2021-03-06 15:52:00</td>\n",
       "    </tr>\n",
       "    <tr>\n",
       "      <th>...</th>\n",
       "      <td>...</td>\n",
       "      <td>...</td>\n",
       "      <td>...</td>\n",
       "      <td>...</td>\n",
       "      <td>...</td>\n",
       "      <td>...</td>\n",
       "      <td>...</td>\n",
       "      <td>...</td>\n",
       "      <td>...</td>\n",
       "      <td>...</td>\n",
       "      <td>...</td>\n",
       "      <td>...</td>\n",
       "      <td>...</td>\n",
       "    </tr>\n",
       "    <tr>\n",
       "      <th>995</th>\n",
       "      <td>996</td>\n",
       "      <td>YOUNG LANGUAGE</td>\n",
       "      <td>A Unbelieveable Yarn of a Boat And a Database ...</td>\n",
       "      <td>2006</td>\n",
       "      <td>1</td>\n",
       "      <td>None</td>\n",
       "      <td>6</td>\n",
       "      <td>0.99</td>\n",
       "      <td>183</td>\n",
       "      <td>9.99</td>\n",
       "      <td>G</td>\n",
       "      <td>Trailers,Behind the Scenes</td>\n",
       "      <td>2021-03-06 15:52:08</td>\n",
       "    </tr>\n",
       "    <tr>\n",
       "      <th>996</th>\n",
       "      <td>997</td>\n",
       "      <td>YOUTH KICK</td>\n",
       "      <td>A Touching Drama of a Teacher And a Cat who mu...</td>\n",
       "      <td>2006</td>\n",
       "      <td>1</td>\n",
       "      <td>None</td>\n",
       "      <td>4</td>\n",
       "      <td>0.99</td>\n",
       "      <td>179</td>\n",
       "      <td>14.99</td>\n",
       "      <td>NC-17</td>\n",
       "      <td>Trailers,Behind the Scenes</td>\n",
       "      <td>2021-03-06 15:52:08</td>\n",
       "    </tr>\n",
       "    <tr>\n",
       "      <th>997</th>\n",
       "      <td>998</td>\n",
       "      <td>ZHIVAGO CORE</td>\n",
       "      <td>A Fateful Yarn of a Composer And a Man who mus...</td>\n",
       "      <td>2006</td>\n",
       "      <td>1</td>\n",
       "      <td>None</td>\n",
       "      <td>6</td>\n",
       "      <td>0.99</td>\n",
       "      <td>105</td>\n",
       "      <td>10.99</td>\n",
       "      <td>NC-17</td>\n",
       "      <td>Deleted Scenes</td>\n",
       "      <td>2021-03-06 15:52:08</td>\n",
       "    </tr>\n",
       "    <tr>\n",
       "      <th>998</th>\n",
       "      <td>999</td>\n",
       "      <td>ZOOLANDER FICTION</td>\n",
       "      <td>A Fateful Reflection of a Waitress And a Boat ...</td>\n",
       "      <td>2006</td>\n",
       "      <td>1</td>\n",
       "      <td>None</td>\n",
       "      <td>5</td>\n",
       "      <td>2.99</td>\n",
       "      <td>101</td>\n",
       "      <td>28.99</td>\n",
       "      <td>R</td>\n",
       "      <td>Trailers,Deleted Scenes</td>\n",
       "      <td>2021-03-06 15:52:08</td>\n",
       "    </tr>\n",
       "    <tr>\n",
       "      <th>999</th>\n",
       "      <td>1000</td>\n",
       "      <td>ZORRO ARK</td>\n",
       "      <td>A Intrepid Panorama of a Mad Scientist And a B...</td>\n",
       "      <td>2006</td>\n",
       "      <td>1</td>\n",
       "      <td>None</td>\n",
       "      <td>3</td>\n",
       "      <td>4.99</td>\n",
       "      <td>50</td>\n",
       "      <td>18.99</td>\n",
       "      <td>NC-17</td>\n",
       "      <td>Trailers,Commentaries,Behind the Scenes</td>\n",
       "      <td>2021-03-06 15:52:08</td>\n",
       "    </tr>\n",
       "  </tbody>\n",
       "</table>\n",
       "<p>1000 rows × 13 columns</p>\n",
       "</div>"
      ],
      "text/plain": [
       "     film_id              title  \\\n",
       "0          1   ACADEMY DINOSAUR   \n",
       "1          2     ACE GOLDFINGER   \n",
       "2          3   ADAPTATION HOLES   \n",
       "3          4   AFFAIR PREJUDICE   \n",
       "4          5        AFRICAN EGG   \n",
       "..       ...                ...   \n",
       "995      996     YOUNG LANGUAGE   \n",
       "996      997         YOUTH KICK   \n",
       "997      998       ZHIVAGO CORE   \n",
       "998      999  ZOOLANDER FICTION   \n",
       "999     1000          ZORRO ARK   \n",
       "\n",
       "                                           description release_year  \\\n",
       "0    A Epic Drama of a Feminist And a Mad Scientist...         2006   \n",
       "1    A Astounding Epistle of a Database Administrat...         2006   \n",
       "2    A Astounding Reflection of a Lumberjack And a ...         2006   \n",
       "3    A Fanciful Documentary of a Frisbee And a Lumb...         2006   \n",
       "4    A Fast-Paced Documentary of a Pastry Chef And ...         2006   \n",
       "..                                                 ...          ...   \n",
       "995  A Unbelieveable Yarn of a Boat And a Database ...         2006   \n",
       "996  A Touching Drama of a Teacher And a Cat who mu...         2006   \n",
       "997  A Fateful Yarn of a Composer And a Man who mus...         2006   \n",
       "998  A Fateful Reflection of a Waitress And a Boat ...         2006   \n",
       "999  A Intrepid Panorama of a Mad Scientist And a B...         2006   \n",
       "\n",
       "     language_id original_language_id  rental_duration  rental_rate  length  \\\n",
       "0              1                 None                6         0.99      86   \n",
       "1              1                 None                3         4.99      48   \n",
       "2              1                 None                7         2.99      50   \n",
       "3              1                 None                5         2.99     117   \n",
       "4              1                 None                6         2.99     130   \n",
       "..           ...                  ...              ...          ...     ...   \n",
       "995            1                 None                6         0.99     183   \n",
       "996            1                 None                4         0.99     179   \n",
       "997            1                 None                6         0.99     105   \n",
       "998            1                 None                5         2.99     101   \n",
       "999            1                 None                3         4.99      50   \n",
       "\n",
       "     replacement_cost rating                         special_features  \\\n",
       "0               20.99     PG         Deleted Scenes,Behind the Scenes   \n",
       "1               12.99      G                  Trailers,Deleted Scenes   \n",
       "2               18.99  NC-17                  Trailers,Deleted Scenes   \n",
       "3               26.99      G           Commentaries,Behind the Scenes   \n",
       "4               22.99      G                           Deleted Scenes   \n",
       "..                ...    ...                                      ...   \n",
       "995              9.99      G               Trailers,Behind the Scenes   \n",
       "996             14.99  NC-17               Trailers,Behind the Scenes   \n",
       "997             10.99  NC-17                           Deleted Scenes   \n",
       "998             28.99      R                  Trailers,Deleted Scenes   \n",
       "999             18.99  NC-17  Trailers,Commentaries,Behind the Scenes   \n",
       "\n",
       "             last_update  \n",
       "0    2021-03-06 15:52:00  \n",
       "1    2021-03-06 15:52:00  \n",
       "2    2021-03-06 15:52:00  \n",
       "3    2021-03-06 15:52:00  \n",
       "4    2021-03-06 15:52:00  \n",
       "..                   ...  \n",
       "995  2021-03-06 15:52:08  \n",
       "996  2021-03-06 15:52:08  \n",
       "997  2021-03-06 15:52:08  \n",
       "998  2021-03-06 15:52:08  \n",
       "999  2021-03-06 15:52:08  \n",
       "\n",
       "[1000 rows x 13 columns]"
      ]
     },
     "execution_count": 7,
     "metadata": {},
     "output_type": "execute_result"
    }
   ],
   "source": [
    "pd.read_sql(\"\"\"\n",
    "\n",
    "SELECT *\n",
    "FROM film;\n",
    "\n",
    "\"\"\", connection)"
   ]
  },
  {
   "cell_type": "markdown",
   "metadata": {
    "papermill": {
     "duration": 0.052744,
     "end_time": "2024-07-29T13:40:46.442605",
     "exception": false,
     "start_time": "2024-07-29T13:40:46.389861",
     "status": "completed"
    },
    "tags": []
   },
   "source": [
    "Or if we wanted to access only specific columns, we could specify this in the `SELECT` clause. I prefer  placing the comma sign at the beginning of each new specified column to make it clear that this is selecting a field instead of calling a new clause, but this is simply personal preference. You can place the comma signs at the end of each row. Indentation also improves readability, so it is a good practice to use it as appropriate:"
   ]
  },
  {
   "cell_type": "code",
   "execution_count": 8,
   "metadata": {
    "execution": {
     "iopub.execute_input": "2024-07-29T13:40:46.546772Z",
     "iopub.status.busy": "2024-07-29T13:40:46.545943Z",
     "iopub.status.idle": "2024-07-29T13:40:46.632283Z",
     "shell.execute_reply": "2024-07-29T13:40:46.632819Z",
     "shell.execute_reply.started": "2024-07-29T13:20:57.622026Z"
    },
    "papermill": {
     "duration": 0.141457,
     "end_time": "2024-07-29T13:40:46.633031",
     "exception": false,
     "start_time": "2024-07-29T13:40:46.491574",
     "status": "completed"
    },
    "tags": []
   },
   "outputs": [
    {
     "data": {
      "text/html": [
       "<div>\n",
       "<style scoped>\n",
       "    .dataframe tbody tr th:only-of-type {\n",
       "        vertical-align: middle;\n",
       "    }\n",
       "\n",
       "    .dataframe tbody tr th {\n",
       "        vertical-align: top;\n",
       "    }\n",
       "\n",
       "    .dataframe thead th {\n",
       "        text-align: right;\n",
       "    }\n",
       "</style>\n",
       "<table border=\"1\" class=\"dataframe\">\n",
       "  <thead>\n",
       "    <tr style=\"text-align: right;\">\n",
       "      <th></th>\n",
       "      <th>payment_id</th>\n",
       "      <th>payment_date</th>\n",
       "      <th>amount</th>\n",
       "    </tr>\n",
       "  </thead>\n",
       "  <tbody>\n",
       "    <tr>\n",
       "      <th>0</th>\n",
       "      <td>1</td>\n",
       "      <td>2005-05-25 11:30:37.000</td>\n",
       "      <td>2.99</td>\n",
       "    </tr>\n",
       "    <tr>\n",
       "      <th>1</th>\n",
       "      <td>2</td>\n",
       "      <td>2005-05-28 10:35:23.000</td>\n",
       "      <td>0.99</td>\n",
       "    </tr>\n",
       "    <tr>\n",
       "      <th>2</th>\n",
       "      <td>3</td>\n",
       "      <td>2005-06-15 00:54:12.000</td>\n",
       "      <td>5.99</td>\n",
       "    </tr>\n",
       "    <tr>\n",
       "      <th>3</th>\n",
       "      <td>4</td>\n",
       "      <td>2005-06-15 18:02:53.000</td>\n",
       "      <td>0.99</td>\n",
       "    </tr>\n",
       "    <tr>\n",
       "      <th>4</th>\n",
       "      <td>5</td>\n",
       "      <td>2005-06-15 21:08:46.000</td>\n",
       "      <td>9.99</td>\n",
       "    </tr>\n",
       "    <tr>\n",
       "      <th>...</th>\n",
       "      <td>...</td>\n",
       "      <td>...</td>\n",
       "      <td>...</td>\n",
       "    </tr>\n",
       "    <tr>\n",
       "      <th>16044</th>\n",
       "      <td>16045</td>\n",
       "      <td>2005-08-21 17:43:42.000</td>\n",
       "      <td>4.99</td>\n",
       "    </tr>\n",
       "    <tr>\n",
       "      <th>16045</th>\n",
       "      <td>16046</td>\n",
       "      <td>2005-08-21 21:41:57.000</td>\n",
       "      <td>1.99</td>\n",
       "    </tr>\n",
       "    <tr>\n",
       "      <th>16046</th>\n",
       "      <td>16047</td>\n",
       "      <td>2005-08-23 06:09:44.000</td>\n",
       "      <td>8.99</td>\n",
       "    </tr>\n",
       "    <tr>\n",
       "      <th>16047</th>\n",
       "      <td>16048</td>\n",
       "      <td>2005-08-23 11:08:46.000</td>\n",
       "      <td>2.99</td>\n",
       "    </tr>\n",
       "    <tr>\n",
       "      <th>16048</th>\n",
       "      <td>16049</td>\n",
       "      <td>2005-08-23 11:25:00.000</td>\n",
       "      <td>2.99</td>\n",
       "    </tr>\n",
       "  </tbody>\n",
       "</table>\n",
       "<p>16049 rows × 3 columns</p>\n",
       "</div>"
      ],
      "text/plain": [
       "       payment_id             payment_date  amount\n",
       "0               1  2005-05-25 11:30:37.000    2.99\n",
       "1               2  2005-05-28 10:35:23.000    0.99\n",
       "2               3  2005-06-15 00:54:12.000    5.99\n",
       "3               4  2005-06-15 18:02:53.000    0.99\n",
       "4               5  2005-06-15 21:08:46.000    9.99\n",
       "...           ...                      ...     ...\n",
       "16044       16045  2005-08-21 17:43:42.000    4.99\n",
       "16045       16046  2005-08-21 21:41:57.000    1.99\n",
       "16046       16047  2005-08-23 06:09:44.000    8.99\n",
       "16047       16048  2005-08-23 11:08:46.000    2.99\n",
       "16048       16049  2005-08-23 11:25:00.000    2.99\n",
       "\n",
       "[16049 rows x 3 columns]"
      ]
     },
     "execution_count": 8,
     "metadata": {},
     "output_type": "execute_result"
    }
   ],
   "source": [
    "pd.read_sql(\"\"\"\n",
    "\n",
    "SELECT \n",
    "    payment_id\n",
    "    ,payment_date\n",
    "    ,amount\n",
    "FROM payment;\n",
    "\n",
    "\"\"\", connection)"
   ]
  },
  {
   "cell_type": "markdown",
   "metadata": {
    "papermill": {
     "duration": 0.047095,
     "end_time": "2024-07-29T13:40:46.728312",
     "exception": false,
     "start_time": "2024-07-29T13:40:46.681217",
     "status": "completed"
    },
    "tags": []
   },
   "source": [
    "Note that the payment table contains 16049 rows."
   ]
  },
  {
   "cell_type": "markdown",
   "metadata": {
    "papermill": {
     "duration": 0.050435,
     "end_time": "2024-07-29T13:40:46.833243",
     "exception": false,
     "start_time": "2024-07-29T13:40:46.782808",
     "status": "completed"
    },
    "tags": []
   },
   "source": [
    "<a id=\"subsection-five\"></a>\n",
    "## Basic SQL Functions"
   ]
  },
  {
   "cell_type": "markdown",
   "metadata": {
    "papermill": {
     "duration": 0.046583,
     "end_time": "2024-07-29T13:40:46.928005",
     "exception": false,
     "start_time": "2024-07-29T13:40:46.881422",
     "status": "completed"
    },
    "tags": []
   },
   "source": [
    "<a id=\"subsection-six\"></a>\n",
    "### COUNT()\n",
    "We can use `COUNT()` to count the number of rows in a certain table or a specific column:"
   ]
  },
  {
   "cell_type": "code",
   "execution_count": 9,
   "metadata": {
    "execution": {
     "iopub.execute_input": "2024-07-29T13:40:47.030621Z",
     "iopub.status.busy": "2024-07-29T13:40:47.029893Z",
     "iopub.status.idle": "2024-07-29T13:40:47.110642Z",
     "shell.execute_reply": "2024-07-29T13:40:47.110048Z",
     "shell.execute_reply.started": "2024-07-29T13:21:17.879997Z"
    },
    "papermill": {
     "duration": 0.134861,
     "end_time": "2024-07-29T13:40:47.110841",
     "exception": false,
     "start_time": "2024-07-29T13:40:46.975980",
     "status": "completed"
    },
    "scrolled": true,
    "tags": []
   },
   "outputs": [
    {
     "data": {
      "text/html": [
       "<div>\n",
       "<style scoped>\n",
       "    .dataframe tbody tr th:only-of-type {\n",
       "        vertical-align: middle;\n",
       "    }\n",
       "\n",
       "    .dataframe tbody tr th {\n",
       "        vertical-align: top;\n",
       "    }\n",
       "\n",
       "    .dataframe thead th {\n",
       "        text-align: right;\n",
       "    }\n",
       "</style>\n",
       "<table border=\"1\" class=\"dataframe\">\n",
       "  <thead>\n",
       "    <tr style=\"text-align: right;\">\n",
       "      <th></th>\n",
       "      <th>COUNT(*)</th>\n",
       "    </tr>\n",
       "  </thead>\n",
       "  <tbody>\n",
       "    <tr>\n",
       "      <th>0</th>\n",
       "      <td>16049</td>\n",
       "    </tr>\n",
       "  </tbody>\n",
       "</table>\n",
       "</div>"
      ],
      "text/plain": [
       "   COUNT(*)\n",
       "0     16049"
      ]
     },
     "execution_count": 9,
     "metadata": {},
     "output_type": "execute_result"
    }
   ],
   "source": [
    "pd.read_sql(\"\"\"\n",
    "\n",
    "SELECT COUNT(*)\n",
    "FROM payment;\n",
    "\n",
    "\"\"\", connection)"
   ]
  },
  {
   "cell_type": "markdown",
   "metadata": {
    "papermill": {
     "duration": 0.046731,
     "end_time": "2024-07-29T13:40:47.204966",
     "exception": false,
     "start_time": "2024-07-29T13:40:47.158235",
     "status": "completed"
    },
    "tags": []
   },
   "source": [
    "We already knew that the payment table contians 16049 rows, but let's investigate a bit furher. We can `COUNT()` the number of rows in a specific column:"
   ]
  },
  {
   "cell_type": "code",
   "execution_count": 10,
   "metadata": {
    "execution": {
     "iopub.execute_input": "2024-07-29T13:40:47.304569Z",
     "iopub.status.busy": "2024-07-29T13:40:47.303622Z",
     "iopub.status.idle": "2024-07-29T13:40:47.315516Z",
     "shell.execute_reply": "2024-07-29T13:40:47.314864Z",
     "shell.execute_reply.started": "2024-07-29T13:21:48.671308Z"
    },
    "papermill": {
     "duration": 0.063639,
     "end_time": "2024-07-29T13:40:47.315684",
     "exception": false,
     "start_time": "2024-07-29T13:40:47.252045",
     "status": "completed"
    },
    "tags": []
   },
   "outputs": [
    {
     "data": {
      "text/html": [
       "<div>\n",
       "<style scoped>\n",
       "    .dataframe tbody tr th:only-of-type {\n",
       "        vertical-align: middle;\n",
       "    }\n",
       "\n",
       "    .dataframe tbody tr th {\n",
       "        vertical-align: top;\n",
       "    }\n",
       "\n",
       "    .dataframe thead th {\n",
       "        text-align: right;\n",
       "    }\n",
       "</style>\n",
       "<table border=\"1\" class=\"dataframe\">\n",
       "  <thead>\n",
       "    <tr style=\"text-align: right;\">\n",
       "      <th></th>\n",
       "      <th>COUNT(rental_id)</th>\n",
       "    </tr>\n",
       "  </thead>\n",
       "  <tbody>\n",
       "    <tr>\n",
       "      <th>0</th>\n",
       "      <td>16044</td>\n",
       "    </tr>\n",
       "  </tbody>\n",
       "</table>\n",
       "</div>"
      ],
      "text/plain": [
       "   COUNT(rental_id)\n",
       "0             16044"
      ]
     },
     "execution_count": 10,
     "metadata": {},
     "output_type": "execute_result"
    }
   ],
   "source": [
    "pd.read_sql(\"\"\"\n",
    "\n",
    "SELECT COUNT(rental_id)\n",
    "FROM payment;\n",
    "\n",
    "\"\"\", connection)"
   ]
  },
  {
   "cell_type": "markdown",
   "metadata": {
    "papermill": {
     "duration": 0.047241,
     "end_time": "2024-07-29T13:40:47.411136",
     "exception": false,
     "start_time": "2024-07-29T13:40:47.363895",
     "status": "completed"
    },
    "tags": []
   },
   "source": [
    "We can see that this returns 16044 rows, which is with 5 lower than the previous query. This is because the `COUNT()` function excludes any missing values, that is NULL values, so it appears that there are 5 payments, which do not have a corresponding rental recorded in the database. Let us see how large these payments are. For this purpose, we will use `WHERE` clause and match values which are NULL as follows:"
   ]
  },
  {
   "cell_type": "code",
   "execution_count": 11,
   "metadata": {
    "execution": {
     "iopub.execute_input": "2024-07-29T13:40:47.512624Z",
     "iopub.status.busy": "2024-07-29T13:40:47.511820Z",
     "iopub.status.idle": "2024-07-29T13:40:47.531288Z",
     "shell.execute_reply": "2024-07-29T13:40:47.530614Z",
     "shell.execute_reply.started": "2024-07-29T13:23:49.074168Z"
    },
    "papermill": {
     "duration": 0.072547,
     "end_time": "2024-07-29T13:40:47.531456",
     "exception": false,
     "start_time": "2024-07-29T13:40:47.458909",
     "status": "completed"
    },
    "scrolled": true,
    "tags": []
   },
   "outputs": [
    {
     "data": {
      "text/html": [
       "<div>\n",
       "<style scoped>\n",
       "    .dataframe tbody tr th:only-of-type {\n",
       "        vertical-align: middle;\n",
       "    }\n",
       "\n",
       "    .dataframe tbody tr th {\n",
       "        vertical-align: top;\n",
       "    }\n",
       "\n",
       "    .dataframe thead th {\n",
       "        text-align: right;\n",
       "    }\n",
       "</style>\n",
       "<table border=\"1\" class=\"dataframe\">\n",
       "  <thead>\n",
       "    <tr style=\"text-align: right;\">\n",
       "      <th></th>\n",
       "      <th>payment_id</th>\n",
       "      <th>customer_id</th>\n",
       "      <th>staff_id</th>\n",
       "      <th>rental_id</th>\n",
       "      <th>amount</th>\n",
       "      <th>payment_date</th>\n",
       "      <th>last_update</th>\n",
       "    </tr>\n",
       "  </thead>\n",
       "  <tbody>\n",
       "    <tr>\n",
       "      <th>0</th>\n",
       "      <td>424</td>\n",
       "      <td>16</td>\n",
       "      <td>1</td>\n",
       "      <td>None</td>\n",
       "      <td>1.99</td>\n",
       "      <td>2005-06-18 04:56:12.000</td>\n",
       "      <td>2021-03-06 15:56:00</td>\n",
       "    </tr>\n",
       "    <tr>\n",
       "      <th>1</th>\n",
       "      <td>7011</td>\n",
       "      <td>259</td>\n",
       "      <td>2</td>\n",
       "      <td>None</td>\n",
       "      <td>1.99</td>\n",
       "      <td>2005-08-23 06:13:16.000</td>\n",
       "      <td>2021-03-06 15:56:55</td>\n",
       "    </tr>\n",
       "    <tr>\n",
       "      <th>2</th>\n",
       "      <td>10840</td>\n",
       "      <td>401</td>\n",
       "      <td>1</td>\n",
       "      <td>None</td>\n",
       "      <td>0.99</td>\n",
       "      <td>2005-07-12 06:26:10.000</td>\n",
       "      <td>2021-03-06 15:57:27</td>\n",
       "    </tr>\n",
       "    <tr>\n",
       "      <th>3</th>\n",
       "      <td>14675</td>\n",
       "      <td>546</td>\n",
       "      <td>1</td>\n",
       "      <td>None</td>\n",
       "      <td>3.99</td>\n",
       "      <td>2005-07-30 21:16:20.000</td>\n",
       "      <td>2021-03-06 15:57:58</td>\n",
       "    </tr>\n",
       "    <tr>\n",
       "      <th>4</th>\n",
       "      <td>15458</td>\n",
       "      <td>577</td>\n",
       "      <td>2</td>\n",
       "      <td>None</td>\n",
       "      <td>0.99</td>\n",
       "      <td>2005-05-27 00:46:39.000</td>\n",
       "      <td>2021-03-06 15:58:04</td>\n",
       "    </tr>\n",
       "  </tbody>\n",
       "</table>\n",
       "</div>"
      ],
      "text/plain": [
       "   payment_id  customer_id  staff_id rental_id  amount  \\\n",
       "0         424           16         1      None    1.99   \n",
       "1        7011          259         2      None    1.99   \n",
       "2       10840          401         1      None    0.99   \n",
       "3       14675          546         1      None    3.99   \n",
       "4       15458          577         2      None    0.99   \n",
       "\n",
       "              payment_date          last_update  \n",
       "0  2005-06-18 04:56:12.000  2021-03-06 15:56:00  \n",
       "1  2005-08-23 06:13:16.000  2021-03-06 15:56:55  \n",
       "2  2005-07-12 06:26:10.000  2021-03-06 15:57:27  \n",
       "3  2005-07-30 21:16:20.000  2021-03-06 15:57:58  \n",
       "4  2005-05-27 00:46:39.000  2021-03-06 15:58:04  "
      ]
     },
     "execution_count": 11,
     "metadata": {},
     "output_type": "execute_result"
    }
   ],
   "source": [
    "pd.read_sql(\"\"\"\n",
    "\n",
    "SELECT *\n",
    "FROM payment\n",
    "WHERE rental_id IS NULL;\n",
    "\n",
    "\"\"\", connection)"
   ]
  },
  {
   "cell_type": "markdown",
   "metadata": {
    "papermill": {
     "duration": 0.047776,
     "end_time": "2024-07-29T13:40:47.627346",
     "exception": false,
     "start_time": "2024-07-29T13:40:47.579570",
     "status": "completed"
    },
    "tags": []
   },
   "source": [
    "We can see these are only small payments and the None values in the rental_id column.\n",
    "\n",
    "Now, caution is required when using `COUNT()` and IS NULL together, because queries including both these clauses might lead to confusion if not understood properly.\n",
    "\n",
    "In the rental table when a rented film has not been returned yet, this is represented with a NULL value in the return_date column, logically.\n",
    "\n",
    "One might assume that `COUNT()` can be used to retrieve the number of missing values in this column to check how many movies are currently in customers, but note what happens if `COUNT()` and IS NULL are used together: \n"
   ]
  },
  {
   "cell_type": "code",
   "execution_count": 12,
   "metadata": {
    "execution": {
     "iopub.execute_input": "2024-07-29T13:40:47.729138Z",
     "iopub.status.busy": "2024-07-29T13:40:47.728332Z",
     "iopub.status.idle": "2024-07-29T13:40:47.799622Z",
     "shell.execute_reply": "2024-07-29T13:40:47.799045Z",
     "shell.execute_reply.started": "2024-07-29T13:24:05.533908Z"
    },
    "papermill": {
     "duration": 0.124506,
     "end_time": "2024-07-29T13:40:47.799834",
     "exception": false,
     "start_time": "2024-07-29T13:40:47.675328",
     "status": "completed"
    },
    "scrolled": true,
    "tags": []
   },
   "outputs": [
    {
     "data": {
      "text/html": [
       "<div>\n",
       "<style scoped>\n",
       "    .dataframe tbody tr th:only-of-type {\n",
       "        vertical-align: middle;\n",
       "    }\n",
       "\n",
       "    .dataframe tbody tr th {\n",
       "        vertical-align: top;\n",
       "    }\n",
       "\n",
       "    .dataframe thead th {\n",
       "        text-align: right;\n",
       "    }\n",
       "</style>\n",
       "<table border=\"1\" class=\"dataframe\">\n",
       "  <thead>\n",
       "    <tr style=\"text-align: right;\">\n",
       "      <th></th>\n",
       "      <th>return_date</th>\n",
       "    </tr>\n",
       "  </thead>\n",
       "  <tbody>\n",
       "    <tr>\n",
       "      <th>0</th>\n",
       "      <td>None</td>\n",
       "    </tr>\n",
       "    <tr>\n",
       "      <th>1</th>\n",
       "      <td>None</td>\n",
       "    </tr>\n",
       "    <tr>\n",
       "      <th>2</th>\n",
       "      <td>None</td>\n",
       "    </tr>\n",
       "    <tr>\n",
       "      <th>3</th>\n",
       "      <td>None</td>\n",
       "    </tr>\n",
       "    <tr>\n",
       "      <th>4</th>\n",
       "      <td>None</td>\n",
       "    </tr>\n",
       "    <tr>\n",
       "      <th>...</th>\n",
       "      <td>...</td>\n",
       "    </tr>\n",
       "    <tr>\n",
       "      <th>178</th>\n",
       "      <td>None</td>\n",
       "    </tr>\n",
       "    <tr>\n",
       "      <th>179</th>\n",
       "      <td>None</td>\n",
       "    </tr>\n",
       "    <tr>\n",
       "      <th>180</th>\n",
       "      <td>None</td>\n",
       "    </tr>\n",
       "    <tr>\n",
       "      <th>181</th>\n",
       "      <td>None</td>\n",
       "    </tr>\n",
       "    <tr>\n",
       "      <th>182</th>\n",
       "      <td>None</td>\n",
       "    </tr>\n",
       "  </tbody>\n",
       "</table>\n",
       "<p>183 rows × 1 columns</p>\n",
       "</div>"
      ],
      "text/plain": [
       "    return_date\n",
       "0          None\n",
       "1          None\n",
       "2          None\n",
       "3          None\n",
       "4          None\n",
       "..          ...\n",
       "178        None\n",
       "179        None\n",
       "180        None\n",
       "181        None\n",
       "182        None\n",
       "\n",
       "[183 rows x 1 columns]"
      ]
     },
     "execution_count": 12,
     "metadata": {},
     "output_type": "execute_result"
    }
   ],
   "source": [
    "pd.read_sql(\"\"\"\n",
    "\n",
    "SELECT return_date \n",
    "FROM rental\n",
    "WHERE return_date IS NULL;\n",
    "\n",
    "\"\"\", connection)"
   ]
  },
  {
   "cell_type": "code",
   "execution_count": 13,
   "metadata": {
    "execution": {
     "iopub.execute_input": "2024-07-29T13:40:47.903463Z",
     "iopub.status.busy": "2024-07-29T13:40:47.902601Z",
     "iopub.status.idle": "2024-07-29T13:40:47.914640Z",
     "shell.execute_reply": "2024-07-29T13:40:47.913902Z",
     "shell.execute_reply.started": "2024-07-29T13:25:04.186414Z"
    },
    "papermill": {
     "duration": 0.065599,
     "end_time": "2024-07-29T13:40:47.914832",
     "exception": false,
     "start_time": "2024-07-29T13:40:47.849233",
     "status": "completed"
    },
    "tags": []
   },
   "outputs": [
    {
     "data": {
      "text/html": [
       "<div>\n",
       "<style scoped>\n",
       "    .dataframe tbody tr th:only-of-type {\n",
       "        vertical-align: middle;\n",
       "    }\n",
       "\n",
       "    .dataframe tbody tr th {\n",
       "        vertical-align: top;\n",
       "    }\n",
       "\n",
       "    .dataframe thead th {\n",
       "        text-align: right;\n",
       "    }\n",
       "</style>\n",
       "<table border=\"1\" class=\"dataframe\">\n",
       "  <thead>\n",
       "    <tr style=\"text-align: right;\">\n",
       "      <th></th>\n",
       "      <th>COUNT(return_date)</th>\n",
       "    </tr>\n",
       "  </thead>\n",
       "  <tbody>\n",
       "    <tr>\n",
       "      <th>0</th>\n",
       "      <td>0</td>\n",
       "    </tr>\n",
       "  </tbody>\n",
       "</table>\n",
       "</div>"
      ],
      "text/plain": [
       "   COUNT(return_date)\n",
       "0                   0"
      ]
     },
     "execution_count": 13,
     "metadata": {},
     "output_type": "execute_result"
    }
   ],
   "source": [
    "pd.read_sql(\"\"\"\n",
    "\n",
    "SELECT COUNT(return_date)\n",
    "FROM rental\n",
    "WHERE return_date IS NULL;\n",
    "\n",
    "\"\"\", connection)"
   ]
  },
  {
   "cell_type": "markdown",
   "metadata": {
    "papermill": {
     "duration": 0.051992,
     "end_time": "2024-07-29T13:40:48.017173",
     "exception": false,
     "start_time": "2024-07-29T13:40:47.965181",
     "status": "completed"
    },
    "tags": []
   },
   "source": [
    "This returns 0 and one might wrongly conclude that no movies are currently out on rent.\n",
    "\n",
    "However, when instead of counting the rows in the return_date column specifically, we count the rows of the entire table using `COUNT(*)` we get a different result, as shown below.\n",
    "\n",
    "This is the apporopriate way to go about it, because `WHERE return_date IS NULL` already guarantees that we are counting rows with missing values in the return_date column:"
   ]
  },
  {
   "cell_type": "code",
   "execution_count": 14,
   "metadata": {
    "execution": {
     "iopub.execute_input": "2024-07-29T13:40:48.119965Z",
     "iopub.status.busy": "2024-07-29T13:40:48.119204Z",
     "iopub.status.idle": "2024-07-29T13:40:48.131485Z",
     "shell.execute_reply": "2024-07-29T13:40:48.130766Z",
     "shell.execute_reply.started": "2024-07-29T13:22:43.880382Z"
    },
    "papermill": {
     "duration": 0.065381,
     "end_time": "2024-07-29T13:40:48.131666",
     "exception": false,
     "start_time": "2024-07-29T13:40:48.066285",
     "status": "completed"
    },
    "scrolled": true,
    "tags": []
   },
   "outputs": [
    {
     "data": {
      "text/html": [
       "<div>\n",
       "<style scoped>\n",
       "    .dataframe tbody tr th:only-of-type {\n",
       "        vertical-align: middle;\n",
       "    }\n",
       "\n",
       "    .dataframe tbody tr th {\n",
       "        vertical-align: top;\n",
       "    }\n",
       "\n",
       "    .dataframe thead th {\n",
       "        text-align: right;\n",
       "    }\n",
       "</style>\n",
       "<table border=\"1\" class=\"dataframe\">\n",
       "  <thead>\n",
       "    <tr style=\"text-align: right;\">\n",
       "      <th></th>\n",
       "      <th>COUNT(*)</th>\n",
       "    </tr>\n",
       "  </thead>\n",
       "  <tbody>\n",
       "    <tr>\n",
       "      <th>0</th>\n",
       "      <td>183</td>\n",
       "    </tr>\n",
       "  </tbody>\n",
       "</table>\n",
       "</div>"
      ],
      "text/plain": [
       "   COUNT(*)\n",
       "0       183"
      ]
     },
     "execution_count": 14,
     "metadata": {},
     "output_type": "execute_result"
    }
   ],
   "source": [
    "pd.read_sql(\"\"\"\n",
    "\n",
    "SELECT COUNT(*) \n",
    "FROM rental\n",
    "WHERE return_date IS NULL;\n",
    "\n",
    "\"\"\", connection)"
   ]
  },
  {
   "cell_type": "markdown",
   "metadata": {
    "papermill": {
     "duration": 0.049185,
     "end_time": "2024-07-29T13:40:48.230733",
     "exception": false,
     "start_time": "2024-07-29T13:40:48.181548",
     "status": "completed"
    },
    "tags": []
   },
   "source": [
    "As we can see, 183 films are currently out on rent"
   ]
  },
  {
   "cell_type": "markdown",
   "metadata": {
    "papermill": {
     "duration": 0.048531,
     "end_time": "2024-07-29T13:40:48.327902",
     "exception": false,
     "start_time": "2024-07-29T13:40:48.279371",
     "status": "completed"
    },
    "tags": []
   },
   "source": [
    "<a id=\"subsection-seven\"></a>\n",
    "### MIN(), MAX(), AVERAGE() and Aggregation"
   ]
  },
  {
   "cell_type": "markdown",
   "metadata": {
    "papermill": {
     "duration": 0.048153,
     "end_time": "2024-07-29T13:40:48.424520",
     "exception": false,
     "start_time": "2024-07-29T13:40:48.376367",
     "status": "completed"
    },
    "tags": []
   },
   "source": [
    "Let's have a look at the film table and see what the minimum and maximum lengths for a movie in each rating category are.\n",
    "\n",
    "One way to go about this is to query the table for `MIN(length)` and `MAX(length)` of each rating category (for example 'PG') using a `WHERE` clause:"
   ]
  },
  {
   "cell_type": "code",
   "execution_count": 15,
   "metadata": {
    "execution": {
     "iopub.execute_input": "2024-07-29T13:40:48.527460Z",
     "iopub.status.busy": "2024-07-29T13:40:48.526647Z",
     "iopub.status.idle": "2024-07-29T13:40:48.548060Z",
     "shell.execute_reply": "2024-07-29T13:40:48.547301Z",
     "shell.execute_reply.started": "2024-07-29T13:28:47.244755Z"
    },
    "papermill": {
     "duration": 0.0753,
     "end_time": "2024-07-29T13:40:48.548237",
     "exception": false,
     "start_time": "2024-07-29T13:40:48.472937",
     "status": "completed"
    },
    "scrolled": true,
    "tags": []
   },
   "outputs": [
    {
     "data": {
      "text/html": [
       "<div>\n",
       "<style scoped>\n",
       "    .dataframe tbody tr th:only-of-type {\n",
       "        vertical-align: middle;\n",
       "    }\n",
       "\n",
       "    .dataframe tbody tr th {\n",
       "        vertical-align: top;\n",
       "    }\n",
       "\n",
       "    .dataframe thead th {\n",
       "        text-align: right;\n",
       "    }\n",
       "</style>\n",
       "<table border=\"1\" class=\"dataframe\">\n",
       "  <thead>\n",
       "    <tr style=\"text-align: right;\">\n",
       "      <th></th>\n",
       "      <th>rating</th>\n",
       "      <th>MIN(length)</th>\n",
       "      <th>MAX(length)</th>\n",
       "      <th>AVG(length)</th>\n",
       "    </tr>\n",
       "  </thead>\n",
       "  <tbody>\n",
       "    <tr>\n",
       "      <th>0</th>\n",
       "      <td>PG</td>\n",
       "      <td>46</td>\n",
       "      <td>185</td>\n",
       "      <td>112.005155</td>\n",
       "    </tr>\n",
       "  </tbody>\n",
       "</table>\n",
       "</div>"
      ],
      "text/plain": [
       "  rating  MIN(length)  MAX(length)  AVG(length)\n",
       "0     PG           46          185   112.005155"
      ]
     },
     "execution_count": 15,
     "metadata": {},
     "output_type": "execute_result"
    }
   ],
   "source": [
    "pd.read_sql(\"\"\"\n",
    "\n",
    "SELECT\n",
    "    rating\n",
    "    ,MIN(length)\n",
    "    ,MAX(length)\n",
    "    ,AVG(length)\n",
    "FROM film\n",
    "WHERE rating = 'PG';\n",
    "\n",
    "\"\"\", connection)"
   ]
  },
  {
   "cell_type": "markdown",
   "metadata": {
    "papermill": {
     "duration": 0.048446,
     "end_time": "2024-07-29T13:40:48.645841",
     "exception": false,
     "start_time": "2024-07-29T13:40:48.597395",
     "status": "completed"
    },
    "tags": []
   },
   "source": [
    "However, using this method to chech all the categories, one would have to call a number of queries equal to the number of categories, which might be a huge number. \n",
    "\n",
    "Instead, we can group films of different categories together based on their category and call functions which will work on the different groups separately. Here, we will look at an example using `MIN()`, `MAX()` and `AVG()` on the different rating category groups. For this purpose, we use a `GROUP BY` clause:"
   ]
  },
  {
   "cell_type": "code",
   "execution_count": 16,
   "metadata": {
    "execution": {
     "iopub.execute_input": "2024-07-29T13:40:48.750095Z",
     "iopub.status.busy": "2024-07-29T13:40:48.749263Z",
     "iopub.status.idle": "2024-07-29T13:40:48.763988Z",
     "shell.execute_reply": "2024-07-29T13:40:48.763379Z",
     "shell.execute_reply.started": "2024-07-29T13:29:04.571652Z"
    },
    "papermill": {
     "duration": 0.069079,
     "end_time": "2024-07-29T13:40:48.764161",
     "exception": false,
     "start_time": "2024-07-29T13:40:48.695082",
     "status": "completed"
    },
    "scrolled": true,
    "tags": []
   },
   "outputs": [
    {
     "data": {
      "text/html": [
       "<div>\n",
       "<style scoped>\n",
       "    .dataframe tbody tr th:only-of-type {\n",
       "        vertical-align: middle;\n",
       "    }\n",
       "\n",
       "    .dataframe tbody tr th {\n",
       "        vertical-align: top;\n",
       "    }\n",
       "\n",
       "    .dataframe thead th {\n",
       "        text-align: right;\n",
       "    }\n",
       "</style>\n",
       "<table border=\"1\" class=\"dataframe\">\n",
       "  <thead>\n",
       "    <tr style=\"text-align: right;\">\n",
       "      <th></th>\n",
       "      <th>rating</th>\n",
       "      <th>MIN(length)</th>\n",
       "      <th>MAX(length)</th>\n",
       "      <th>Average</th>\n",
       "    </tr>\n",
       "  </thead>\n",
       "  <tbody>\n",
       "    <tr>\n",
       "      <th>0</th>\n",
       "      <td>G</td>\n",
       "      <td>47</td>\n",
       "      <td>185</td>\n",
       "      <td>111.0</td>\n",
       "    </tr>\n",
       "    <tr>\n",
       "      <th>1</th>\n",
       "      <td>NC-17</td>\n",
       "      <td>46</td>\n",
       "      <td>184</td>\n",
       "      <td>113.0</td>\n",
       "    </tr>\n",
       "    <tr>\n",
       "      <th>2</th>\n",
       "      <td>PG</td>\n",
       "      <td>46</td>\n",
       "      <td>185</td>\n",
       "      <td>112.0</td>\n",
       "    </tr>\n",
       "    <tr>\n",
       "      <th>3</th>\n",
       "      <td>PG-13</td>\n",
       "      <td>46</td>\n",
       "      <td>185</td>\n",
       "      <td>120.0</td>\n",
       "    </tr>\n",
       "    <tr>\n",
       "      <th>4</th>\n",
       "      <td>R</td>\n",
       "      <td>49</td>\n",
       "      <td>185</td>\n",
       "      <td>119.0</td>\n",
       "    </tr>\n",
       "  </tbody>\n",
       "</table>\n",
       "</div>"
      ],
      "text/plain": [
       "  rating  MIN(length)  MAX(length)  Average\n",
       "0      G           47          185    111.0\n",
       "1  NC-17           46          184    113.0\n",
       "2     PG           46          185    112.0\n",
       "3  PG-13           46          185    120.0\n",
       "4      R           49          185    119.0"
      ]
     },
     "execution_count": 16,
     "metadata": {},
     "output_type": "execute_result"
    }
   ],
   "source": [
    "pd.read_sql(\"\"\"\n",
    "\n",
    "SELECT \n",
    "    rating\n",
    "    ,MIN(length)\n",
    "    ,MAX(length)\n",
    "    ,ROUND(AVG(length), 0) AS Average\n",
    "FROM film\n",
    "GROUP BY rating;\n",
    "\n",
    "\"\"\", connection)"
   ]
  },
  {
   "cell_type": "markdown",
   "metadata": {
    "papermill": {
     "duration": 0.051672,
     "end_time": "2024-07-29T13:40:48.867443",
     "exception": false,
     "start_time": "2024-07-29T13:40:48.815771",
     "status": "completed"
    },
    "tags": []
   },
   "source": [
    "This is much quicker and automatically shows us the results for all groups present in the data, instead of us having to manually call functions on each individual group.\n",
    "\n",
    "Something else you can see from the example is the `AS` keyword. This is used to rename the displayed column or what is known as creating an 'alias'. This helps with readability and can significantly help when writing more complex queries (more on this later)."
   ]
  },
  {
   "cell_type": "markdown",
   "metadata": {
    "papermill": {
     "duration": 0.049639,
     "end_time": "2024-07-29T13:40:48.967857",
     "exception": false,
     "start_time": "2024-07-29T13:40:48.918218",
     "status": "completed"
    },
    "tags": []
   },
   "source": [
    "<a id=\"section-three\"></a>\n",
    "## More functions, keywords and concepts"
   ]
  },
  {
   "cell_type": "markdown",
   "metadata": {
    "papermill": {
     "duration": 0.052292,
     "end_time": "2024-07-29T13:40:49.074511",
     "exception": false,
     "start_time": "2024-07-29T13:40:49.022219",
     "status": "completed"
    },
    "tags": []
   },
   "source": [
    "Let's now look at some more examples of queries, which will introduce concepts such as ordering, JOINs, subqueries, dates, rounding and more."
   ]
  },
  {
   "cell_type": "markdown",
   "metadata": {
    "papermill": {
     "duration": 0.048638,
     "end_time": "2024-07-29T13:40:49.172686",
     "exception": false,
     "start_time": "2024-07-29T13:40:49.124048",
     "status": "completed"
    },
    "tags": []
   },
   "source": [
    "<a id=\"subsection-eight\"></a>\n",
    "### How many movies are there in each rating category?\n",
    "To answer this question we will once again group by the film's rating and `COUNT()` how many films are in each category. Notice the `ORDER BY` clause, combined with the `DESC` keyword, which stands for \"descending\". This is used to order the results in the query by the Count with the highest count at the top. Also notice the use of aliases to give our results columns appropriate names. We save the query in a variable `films_per_rating` to use it for visualising."
   ]
  },
  {
   "cell_type": "code",
   "execution_count": 17,
   "metadata": {
    "execution": {
     "iopub.execute_input": "2024-07-29T13:40:49.280226Z",
     "iopub.status.busy": "2024-07-29T13:40:49.279402Z",
     "iopub.status.idle": "2024-07-29T13:40:49.292334Z",
     "shell.execute_reply": "2024-07-29T13:40:49.291472Z",
     "shell.execute_reply.started": "2024-07-29T13:30:40.962805Z"
    },
    "papermill": {
     "duration": 0.067912,
     "end_time": "2024-07-29T13:40:49.292608",
     "exception": false,
     "start_time": "2024-07-29T13:40:49.224696",
     "status": "completed"
    },
    "tags": []
   },
   "outputs": [
    {
     "data": {
      "text/html": [
       "<div>\n",
       "<style scoped>\n",
       "    .dataframe tbody tr th:only-of-type {\n",
       "        vertical-align: middle;\n",
       "    }\n",
       "\n",
       "    .dataframe tbody tr th {\n",
       "        vertical-align: top;\n",
       "    }\n",
       "\n",
       "    .dataframe thead th {\n",
       "        text-align: right;\n",
       "    }\n",
       "</style>\n",
       "<table border=\"1\" class=\"dataframe\">\n",
       "  <thead>\n",
       "    <tr style=\"text-align: right;\">\n",
       "      <th></th>\n",
       "      <th>Rating</th>\n",
       "      <th>Count</th>\n",
       "    </tr>\n",
       "  </thead>\n",
       "  <tbody>\n",
       "    <tr>\n",
       "      <th>0</th>\n",
       "      <td>PG-13</td>\n",
       "      <td>223</td>\n",
       "    </tr>\n",
       "    <tr>\n",
       "      <th>1</th>\n",
       "      <td>NC-17</td>\n",
       "      <td>210</td>\n",
       "    </tr>\n",
       "    <tr>\n",
       "      <th>2</th>\n",
       "      <td>R</td>\n",
       "      <td>195</td>\n",
       "    </tr>\n",
       "    <tr>\n",
       "      <th>3</th>\n",
       "      <td>PG</td>\n",
       "      <td>194</td>\n",
       "    </tr>\n",
       "    <tr>\n",
       "      <th>4</th>\n",
       "      <td>G</td>\n",
       "      <td>178</td>\n",
       "    </tr>\n",
       "  </tbody>\n",
       "</table>\n",
       "</div>"
      ],
      "text/plain": [
       "  Rating  Count\n",
       "0  PG-13    223\n",
       "1  NC-17    210\n",
       "2      R    195\n",
       "3     PG    194\n",
       "4      G    178"
      ]
     },
     "execution_count": 17,
     "metadata": {},
     "output_type": "execute_result"
    }
   ],
   "source": [
    "\n",
    "films_per_rating = pd.read_sql(\"\"\"\n",
    "\n",
    "SELECT \n",
    "    rating AS Rating\n",
    "    ,COUNT(title) AS Count\n",
    "FROM film\n",
    "GROUP BY rating\n",
    "ORDER BY Count DESC\n",
    "\n",
    "\"\"\", connection)\n",
    "\n",
    "films_per_rating"
   ]
  },
  {
   "cell_type": "markdown",
   "metadata": {
    "papermill": {
     "duration": 0.05013,
     "end_time": "2024-07-29T13:40:49.394473",
     "exception": false,
     "start_time": "2024-07-29T13:40:49.344343",
     "status": "completed"
    },
    "tags": []
   },
   "source": [
    "And we visualize the results using matplotlib:"
   ]
  },
  {
   "cell_type": "code",
   "execution_count": 18,
   "metadata": {
    "_kg_hide-input": true,
    "execution": {
     "iopub.execute_input": "2024-07-29T13:40:49.530048Z",
     "iopub.status.busy": "2024-07-29T13:40:49.521985Z",
     "iopub.status.idle": "2024-07-29T13:40:49.716520Z",
     "shell.execute_reply": "2024-07-29T13:40:49.715773Z",
     "shell.execute_reply.started": "2024-07-29T13:31:12.403053Z"
    },
    "papermill": {
     "duration": 0.271351,
     "end_time": "2024-07-29T13:40:49.716688",
     "exception": false,
     "start_time": "2024-07-29T13:40:49.445337",
     "status": "completed"
    },
    "scrolled": true,
    "tags": []
   },
   "outputs": [
    {
     "data": {
      "image/png": "[encoded data removed]",
      "text/plain": [
       "<Figure size 720x360 with 1 Axes>"
      ]
     },
     "metadata": {
      "needs_background": "light"
     },
     "output_type": "display_data"
    }
   ],
   "source": [
    "fig, ax = plt.subplots(figsize = (10,5))\n",
    "\n",
    "ypos = np.arange(len(films_per_rating[\"Count\"]))\n",
    "bars = ax.bar(ypos, films_per_rating[\"Count\"], width = 0.50)\n",
    "ax.set_xticks(ypos)\n",
    "ax.set_xticklabels(films_per_rating[\"Rating\"])\n",
    "ax.set_ylim(ymax = 250)\n",
    "ax.set_title(\"Number of Movies in Each Category\", fontsize = 14)\n",
    "ax.set_ylabel(\"Number of Movies\", fontsize = 12)\n",
    "\n",
    "for bar in bars: # add data labels\n",
    "    height = bar.get_height()\n",
    "    ax.annotate(f\"{height}\",\n",
    "                    xy=(bar.get_x() + bar.get_width() / 2, height),\n",
    "                    xytext=(0, 3),  # 3 points vertical offset\n",
    "                    textcoords=\"offset points\",\n",
    "                    ha=\"center\", va=\"bottom\",\n",
    "                    fontweight=\"semibold\")\n",
    "\n",
    "plt.show()"
   ]
  },
  {
   "cell_type": "markdown",
   "metadata": {
    "papermill": {
     "duration": 0.053856,
     "end_time": "2024-07-29T13:40:49.822977",
     "exception": false,
     "start_time": "2024-07-29T13:40:49.769121",
     "status": "completed"
    },
    "tags": []
   },
   "source": [
    "<a id=\"subsection-nine\"></a>\n",
    "### What is the total number of movies in each category held in inventory?\n",
    "To answer this question, we will use a concept known as 'joining' tables, using the `JOIN` keyword. What this basically does, is it takes the values from a column in one table and matches them with the corresponding values from a column in another table, thus creating a new merged table.\n",
    "\n",
    "There is a plethora of tutorials explaining JOINs, so I will not explain all details and types of JOINs here (like LEFT JOIN, RIGHT JOIN, FULL OUTER JOIN etc.), but I refer you to this short (10-minute) video by [Socratica](https://www.youtube.com/channel/UCW6TXMZ5Pq6yL6_k5NZ2e0Q), which I found was particularly good at explaining JOINs, the different types of JOINs and visualising how they work: [SQL Joins Explained](https://www.youtube.com/watch?v=9yeOJ0ZMUYw)\n",
    "\n",
    "In our case, we want to take the film_id from the inventory table and match them with the corresponding film_id from the film table. Then we can access the ratings from the film table and group by them. Note the use of aliases for the tables which shortens the query:"
   ]
  },
  {
   "cell_type": "code",
   "execution_count": 19,
   "metadata": {
    "execution": {
     "iopub.execute_input": "2024-07-29T13:40:49.932082Z",
     "iopub.status.busy": "2024-07-29T13:40:49.931198Z",
     "iopub.status.idle": "2024-07-29T13:40:49.971483Z",
     "shell.execute_reply": "2024-07-29T13:40:49.970912Z"
    },
    "papermill": {
     "duration": 0.096692,
     "end_time": "2024-07-29T13:40:49.971672",
     "exception": false,
     "start_time": "2024-07-29T13:40:49.874980",
     "status": "completed"
    },
    "tags": []
   },
   "outputs": [
    {
     "data": {
      "text/html": [
       "<div>\n",
       "<style scoped>\n",
       "    .dataframe tbody tr th:only-of-type {\n",
       "        vertical-align: middle;\n",
       "    }\n",
       "\n",
       "    .dataframe tbody tr th {\n",
       "        vertical-align: top;\n",
       "    }\n",
       "\n",
       "    .dataframe thead th {\n",
       "        text-align: right;\n",
       "    }\n",
       "</style>\n",
       "<table border=\"1\" class=\"dataframe\">\n",
       "  <thead>\n",
       "    <tr style=\"text-align: right;\">\n",
       "      <th></th>\n",
       "      <th>Rating</th>\n",
       "      <th>Count</th>\n",
       "    </tr>\n",
       "  </thead>\n",
       "  <tbody>\n",
       "    <tr>\n",
       "      <th>0</th>\n",
       "      <td>PG-13</td>\n",
       "      <td>1018</td>\n",
       "    </tr>\n",
       "    <tr>\n",
       "      <th>1</th>\n",
       "      <td>NC-17</td>\n",
       "      <td>944</td>\n",
       "    </tr>\n",
       "    <tr>\n",
       "      <th>2</th>\n",
       "      <td>PG</td>\n",
       "      <td>924</td>\n",
       "    </tr>\n",
       "    <tr>\n",
       "      <th>3</th>\n",
       "      <td>R</td>\n",
       "      <td>904</td>\n",
       "    </tr>\n",
       "    <tr>\n",
       "      <th>4</th>\n",
       "      <td>G</td>\n",
       "      <td>791</td>\n",
       "    </tr>\n",
       "  </tbody>\n",
       "</table>\n",
       "</div>"
      ],
      "text/plain": [
       "  Rating  Count\n",
       "0  PG-13   1018\n",
       "1  NC-17    944\n",
       "2     PG    924\n",
       "3      R    904\n",
       "4      G    791"
      ]
     },
     "execution_count": 19,
     "metadata": {},
     "output_type": "execute_result"
    }
   ],
   "source": [
    "\n",
    "films_in_inv = pd.read_sql(\"\"\"\n",
    "\n",
    "SELECT\n",
    "    rating AS Rating\n",
    "    ,COUNT(title) AS Count\n",
    "FROM inventory AS i\n",
    "JOIN film as f\n",
    "ON i.film_id = f.film_id\n",
    "GROUP BY rating\n",
    "ORDER BY Count DESC\n",
    "\n",
    "\"\"\", connection)\n",
    "\n",
    "films_in_inv"
   ]
  },
  {
   "cell_type": "code",
   "execution_count": 20,
   "metadata": {
    "_kg_hide-input": true,
    "execution": {
     "iopub.execute_input": "2024-07-29T13:40:50.103327Z",
     "iopub.status.busy": "2024-07-29T13:40:50.102502Z",
     "iopub.status.idle": "2024-07-29T13:40:50.258977Z",
     "shell.execute_reply": "2024-07-29T13:40:50.258170Z"
    },
    "papermill": {
     "duration": 0.232641,
     "end_time": "2024-07-29T13:40:50.259172",
     "exception": false,
     "start_time": "2024-07-29T13:40:50.026531",
     "status": "completed"
    },
    "tags": []
   },
   "outputs": [
    {
     "data": {
      "image/png": "[encoded data removed]",
      "text/plain": [
       "<Figure size 720x360 with 1 Axes>"
      ]
     },
     "metadata": {
      "needs_background": "light"
     },
     "output_type": "display_data"
    }
   ],
   "source": [
    "fig, ax = plt.subplots(figsize = (10,5))\n",
    "\n",
    "ypos = np.arange(len(films_in_inv[\"Count\"]))\n",
    "bars = ax.bar(ypos, films_in_inv[\"Count\"], width = 0.50)\n",
    "ax.set_xticks(ypos)\n",
    "ax.set_xticklabels(films_in_inv[\"Rating\"])\n",
    "ax.set_ylim(ymax = 1100)\n",
    "ax.set_title(\"Number of Movies in Each Category Held in Inventory\", fontsize = 14)\n",
    "ax.set_ylabel(\"Number of Movies Held in Inventory\", fontsize = 12)\n",
    "\n",
    "for bar in bars: # add data labels\n",
    "    height = bar.get_height()\n",
    "    ax.annotate(f\"{height}\",\n",
    "                    xy=(bar.get_x() + bar.get_width() / 2, height),\n",
    "                    xytext=(0, 3),  # 3 points vertical offset\n",
    "                    textcoords=\"offset points\",\n",
    "                    ha=\"center\", va=\"bottom\")\n",
    "\n",
    "plt.show()"
   ]
  },
  {
   "cell_type": "markdown",
   "metadata": {
    "papermill": {
     "duration": 0.052385,
     "end_time": "2024-07-29T13:40:50.365280",
     "exception": false,
     "start_time": "2024-07-29T13:40:50.312895",
     "status": "completed"
    },
    "tags": []
   },
   "source": [
    "Although above we saw that there were more R rated movies than there are and PG rated movies (195 vs 194), they change places in this graph, so a higher quanitiy of PG movies are held in inventory relative to R movies (924 vs 904)."
   ]
  },
  {
   "cell_type": "markdown",
   "metadata": {
    "papermill": {
     "duration": 0.052019,
     "end_time": "2024-07-29T13:40:50.470252",
     "exception": false,
     "start_time": "2024-07-29T13:40:50.418233",
     "status": "completed"
    },
    "tags": []
   },
   "source": [
    "<a id=\"subsection-ten\"></a>\n",
    "### Which movies of rating 'PG' are held in highest quantity in the inventory?\n",
    "Let's look at one more example, for which we include the `WHERE` clause and the `ORDER BY` takes two arguments: it first orders by the Count from highest to lowest and in case there are movies of the same count, they are ordered alphabetically. Once again, note the order of the clauses:"
   ]
  },
  {
   "cell_type": "code",
   "execution_count": 21,
   "metadata": {
    "execution": {
     "iopub.execute_input": "2024-07-29T13:40:50.583613Z",
     "iopub.status.busy": "2024-07-29T13:40:50.582896Z",
     "iopub.status.idle": "2024-07-29T13:40:50.603424Z",
     "shell.execute_reply": "2024-07-29T13:40:50.602698Z"
    },
    "papermill": {
     "duration": 0.079908,
     "end_time": "2024-07-29T13:40:50.603600",
     "exception": false,
     "start_time": "2024-07-29T13:40:50.523692",
     "status": "completed"
    },
    "scrolled": true,
    "tags": []
   },
   "outputs": [
    {
     "data": {
      "text/html": [
       "<div>\n",
       "<style scoped>\n",
       "    .dataframe tbody tr th:only-of-type {\n",
       "        vertical-align: middle;\n",
       "    }\n",
       "\n",
       "    .dataframe tbody tr th {\n",
       "        vertical-align: top;\n",
       "    }\n",
       "\n",
       "    .dataframe thead th {\n",
       "        text-align: right;\n",
       "    }\n",
       "</style>\n",
       "<table border=\"1\" class=\"dataframe\">\n",
       "  <thead>\n",
       "    <tr style=\"text-align: right;\">\n",
       "      <th></th>\n",
       "      <th>Title</th>\n",
       "      <th>Count</th>\n",
       "      <th>rating</th>\n",
       "    </tr>\n",
       "  </thead>\n",
       "  <tbody>\n",
       "    <tr>\n",
       "      <th>0</th>\n",
       "      <td>ACADEMY DINOSAUR</td>\n",
       "      <td>8</td>\n",
       "      <td>PG</td>\n",
       "    </tr>\n",
       "    <tr>\n",
       "      <th>1</th>\n",
       "      <td>BOUND CHEAPER</td>\n",
       "      <td>8</td>\n",
       "      <td>PG</td>\n",
       "    </tr>\n",
       "    <tr>\n",
       "      <th>2</th>\n",
       "      <td>BUCKET BROTHERHOOD</td>\n",
       "      <td>8</td>\n",
       "      <td>PG</td>\n",
       "    </tr>\n",
       "    <tr>\n",
       "      <th>3</th>\n",
       "      <td>EXPENDABLE STALLION</td>\n",
       "      <td>8</td>\n",
       "      <td>PG</td>\n",
       "    </tr>\n",
       "    <tr>\n",
       "      <th>4</th>\n",
       "      <td>FROST HEAD</td>\n",
       "      <td>8</td>\n",
       "      <td>PG</td>\n",
       "    </tr>\n",
       "    <tr>\n",
       "      <th>...</th>\n",
       "      <td>...</td>\n",
       "      <td>...</td>\n",
       "      <td>...</td>\n",
       "    </tr>\n",
       "    <tr>\n",
       "      <th>178</th>\n",
       "      <td>PRIVATE DROP</td>\n",
       "      <td>2</td>\n",
       "      <td>PG</td>\n",
       "    </tr>\n",
       "    <tr>\n",
       "      <th>179</th>\n",
       "      <td>PUNK DIVORCE</td>\n",
       "      <td>2</td>\n",
       "      <td>PG</td>\n",
       "    </tr>\n",
       "    <tr>\n",
       "      <th>180</th>\n",
       "      <td>RECORDS ZORRO</td>\n",
       "      <td>2</td>\n",
       "      <td>PG</td>\n",
       "    </tr>\n",
       "    <tr>\n",
       "      <th>181</th>\n",
       "      <td>TEQUILA PAST</td>\n",
       "      <td>2</td>\n",
       "      <td>PG</td>\n",
       "    </tr>\n",
       "    <tr>\n",
       "      <th>182</th>\n",
       "      <td>TREATMENT JEKYLL</td>\n",
       "      <td>2</td>\n",
       "      <td>PG</td>\n",
       "    </tr>\n",
       "  </tbody>\n",
       "</table>\n",
       "<p>183 rows × 3 columns</p>\n",
       "</div>"
      ],
      "text/plain": [
       "                   Title  Count rating\n",
       "0       ACADEMY DINOSAUR      8     PG\n",
       "1          BOUND CHEAPER      8     PG\n",
       "2     BUCKET BROTHERHOOD      8     PG\n",
       "3    EXPENDABLE STALLION      8     PG\n",
       "4             FROST HEAD      8     PG\n",
       "..                   ...    ...    ...\n",
       "178         PRIVATE DROP      2     PG\n",
       "179         PUNK DIVORCE      2     PG\n",
       "180        RECORDS ZORRO      2     PG\n",
       "181         TEQUILA PAST      2     PG\n",
       "182     TREATMENT JEKYLL      2     PG\n",
       "\n",
       "[183 rows x 3 columns]"
      ]
     },
     "execution_count": 21,
     "metadata": {},
     "output_type": "execute_result"
    }
   ],
   "source": [
    "\n",
    "pd.read_sql(\"\"\"\n",
    "\n",
    "SELECT \n",
    "    f.title AS Title\n",
    "    ,COUNT(*) AS Count\n",
    "    ,f.rating\n",
    "FROM inventory AS i\n",
    "JOIN film AS f\n",
    "ON i.film_id = f.film_id\n",
    "WHERE rating = 'PG'\n",
    "GROUP BY f.title\n",
    "ORDER BY Count DESC, Title ASC;\n",
    "\n",
    "\"\"\", connection)"
   ]
  },
  {
   "cell_type": "markdown",
   "metadata": {
    "papermill": {
     "duration": 0.054589,
     "end_time": "2024-07-29T13:40:50.713887",
     "exception": false,
     "start_time": "2024-07-29T13:40:50.659298",
     "status": "completed"
    },
    "tags": []
   },
   "source": [
    "<a id=\"subsection-eleven\"></a>\n",
    "### What movies has each actor starred in and who has starred in the most movies?\n",
    "To answer these questions, we will need information from 3 tables. In this database the film_actor table is used to show which actor has starred in which movie, but only using the actor_id and film_id. Here we use the `LIMIT 5` keyword to retrieve only the top 5 rows of the film_actor table:"
   ]
  },
  {
   "cell_type": "code",
   "execution_count": 22,
   "metadata": {
    "execution": {
     "iopub.execute_input": "2024-07-29T13:40:50.825122Z",
     "iopub.status.busy": "2024-07-29T13:40:50.824298Z",
     "iopub.status.idle": "2024-07-29T13:40:50.840947Z",
     "shell.execute_reply": "2024-07-29T13:40:50.840300Z"
    },
    "papermill": {
     "duration": 0.074346,
     "end_time": "2024-07-29T13:40:50.841133",
     "exception": false,
     "start_time": "2024-07-29T13:40:50.766787",
     "status": "completed"
    },
    "scrolled": true,
    "tags": []
   },
   "outputs": [
    {
     "data": {
      "text/html": [
       "<div>\n",
       "<style scoped>\n",
       "    .dataframe tbody tr th:only-of-type {\n",
       "        vertical-align: middle;\n",
       "    }\n",
       "\n",
       "    .dataframe tbody tr th {\n",
       "        vertical-align: top;\n",
       "    }\n",
       "\n",
       "    .dataframe thead th {\n",
       "        text-align: right;\n",
       "    }\n",
       "</style>\n",
       "<table border=\"1\" class=\"dataframe\">\n",
       "  <thead>\n",
       "    <tr style=\"text-align: right;\">\n",
       "      <th></th>\n",
       "      <th>actor_id</th>\n",
       "      <th>film_id</th>\n",
       "      <th>last_update</th>\n",
       "    </tr>\n",
       "  </thead>\n",
       "  <tbody>\n",
       "    <tr>\n",
       "      <th>0</th>\n",
       "      <td>1</td>\n",
       "      <td>1</td>\n",
       "      <td>2021-03-06 15:52:45</td>\n",
       "    </tr>\n",
       "    <tr>\n",
       "      <th>1</th>\n",
       "      <td>1</td>\n",
       "      <td>23</td>\n",
       "      <td>2021-03-06 15:52:45</td>\n",
       "    </tr>\n",
       "    <tr>\n",
       "      <th>2</th>\n",
       "      <td>1</td>\n",
       "      <td>25</td>\n",
       "      <td>2021-03-06 15:52:45</td>\n",
       "    </tr>\n",
       "    <tr>\n",
       "      <th>3</th>\n",
       "      <td>1</td>\n",
       "      <td>106</td>\n",
       "      <td>2021-03-06 15:52:45</td>\n",
       "    </tr>\n",
       "    <tr>\n",
       "      <th>4</th>\n",
       "      <td>1</td>\n",
       "      <td>140</td>\n",
       "      <td>2021-03-06 15:52:45</td>\n",
       "    </tr>\n",
       "  </tbody>\n",
       "</table>\n",
       "</div>"
      ],
      "text/plain": [
       "   actor_id  film_id          last_update\n",
       "0         1        1  2021-03-06 15:52:45\n",
       "1         1       23  2021-03-06 15:52:45\n",
       "2         1       25  2021-03-06 15:52:45\n",
       "3         1      106  2021-03-06 15:52:45\n",
       "4         1      140  2021-03-06 15:52:45"
      ]
     },
     "execution_count": 22,
     "metadata": {},
     "output_type": "execute_result"
    }
   ],
   "source": [
    "pd.read_sql(\"\"\"\n",
    "\n",
    "SELECT *\n",
    "FROM film_actor\n",
    "LIMIT 5;\n",
    "\n",
    "\"\"\", connection)"
   ]
  },
  {
   "cell_type": "markdown",
   "metadata": {
    "papermill": {
     "duration": 0.054005,
     "end_time": "2024-07-29T13:40:50.948904",
     "exception": false,
     "start_time": "2024-07-29T13:40:50.894899",
     "status": "completed"
    },
    "tags": []
   },
   "source": [
    "As we can see, we will have to conduct 2 JOINs on this table to match the actor_id with the corresponding actor name and to match the film_id with the corresponding film title. The || sign is used to concatenate the first and last name of the actor with a space inbetween: "
   ]
  },
  {
   "cell_type": "code",
   "execution_count": 23,
   "metadata": {
    "execution": {
     "iopub.execute_input": "2024-07-29T13:40:51.065395Z",
     "iopub.status.busy": "2024-07-29T13:40:51.064580Z",
     "iopub.status.idle": "2024-07-29T13:40:51.127694Z",
     "shell.execute_reply": "2024-07-29T13:40:51.127018Z"
    },
    "papermill": {
     "duration": 0.123145,
     "end_time": "2024-07-29T13:40:51.127902",
     "exception": false,
     "start_time": "2024-07-29T13:40:51.004757",
     "status": "completed"
    },
    "scrolled": true,
    "tags": []
   },
   "outputs": [
    {
     "data": {
      "text/html": [
       "<div>\n",
       "<style scoped>\n",
       "    .dataframe tbody tr th:only-of-type {\n",
       "        vertical-align: middle;\n",
       "    }\n",
       "\n",
       "    .dataframe tbody tr th {\n",
       "        vertical-align: top;\n",
       "    }\n",
       "\n",
       "    .dataframe thead th {\n",
       "        text-align: right;\n",
       "    }\n",
       "</style>\n",
       "<table border=\"1\" class=\"dataframe\">\n",
       "  <thead>\n",
       "    <tr style=\"text-align: right;\">\n",
       "      <th></th>\n",
       "      <th>FilmTitle</th>\n",
       "      <th>Name</th>\n",
       "    </tr>\n",
       "  </thead>\n",
       "  <tbody>\n",
       "    <tr>\n",
       "      <th>0</th>\n",
       "      <td>ACADEMY DINOSAUR</td>\n",
       "      <td>PENELOPE GUINESS</td>\n",
       "    </tr>\n",
       "    <tr>\n",
       "      <th>1</th>\n",
       "      <td>ANACONDA CONFESSIONS</td>\n",
       "      <td>PENELOPE GUINESS</td>\n",
       "    </tr>\n",
       "    <tr>\n",
       "      <th>2</th>\n",
       "      <td>ANGELS LIFE</td>\n",
       "      <td>PENELOPE GUINESS</td>\n",
       "    </tr>\n",
       "    <tr>\n",
       "      <th>3</th>\n",
       "      <td>BULWORTH COMMANDMENTS</td>\n",
       "      <td>PENELOPE GUINESS</td>\n",
       "    </tr>\n",
       "    <tr>\n",
       "      <th>4</th>\n",
       "      <td>CHEAPER CLYDE</td>\n",
       "      <td>PENELOPE GUINESS</td>\n",
       "    </tr>\n",
       "    <tr>\n",
       "      <th>...</th>\n",
       "      <td>...</td>\n",
       "      <td>...</td>\n",
       "    </tr>\n",
       "    <tr>\n",
       "      <th>5457</th>\n",
       "      <td>TELEGRAPH VOYAGE</td>\n",
       "      <td>THORA TEMPLE</td>\n",
       "    </tr>\n",
       "    <tr>\n",
       "      <th>5458</th>\n",
       "      <td>TROJAN TOMORROW</td>\n",
       "      <td>THORA TEMPLE</td>\n",
       "    </tr>\n",
       "    <tr>\n",
       "      <th>5459</th>\n",
       "      <td>VIRGINIAN PLUTO</td>\n",
       "      <td>THORA TEMPLE</td>\n",
       "    </tr>\n",
       "    <tr>\n",
       "      <th>5460</th>\n",
       "      <td>WARDROBE PHANTOM</td>\n",
       "      <td>THORA TEMPLE</td>\n",
       "    </tr>\n",
       "    <tr>\n",
       "      <th>5461</th>\n",
       "      <td>WRONG BEHAVIOR</td>\n",
       "      <td>THORA TEMPLE</td>\n",
       "    </tr>\n",
       "  </tbody>\n",
       "</table>\n",
       "<p>5462 rows × 2 columns</p>\n",
       "</div>"
      ],
      "text/plain": [
       "                  FilmTitle              Name\n",
       "0          ACADEMY DINOSAUR  PENELOPE GUINESS\n",
       "1      ANACONDA CONFESSIONS  PENELOPE GUINESS\n",
       "2               ANGELS LIFE  PENELOPE GUINESS\n",
       "3     BULWORTH COMMANDMENTS  PENELOPE GUINESS\n",
       "4             CHEAPER CLYDE  PENELOPE GUINESS\n",
       "...                     ...               ...\n",
       "5457       TELEGRAPH VOYAGE      THORA TEMPLE\n",
       "5458        TROJAN TOMORROW      THORA TEMPLE\n",
       "5459        VIRGINIAN PLUTO      THORA TEMPLE\n",
       "5460       WARDROBE PHANTOM      THORA TEMPLE\n",
       "5461         WRONG BEHAVIOR      THORA TEMPLE\n",
       "\n",
       "[5462 rows x 2 columns]"
      ]
     },
     "execution_count": 23,
     "metadata": {},
     "output_type": "execute_result"
    }
   ],
   "source": [
    "pd.read_sql(\"\"\"\n",
    "\n",
    "SELECT\n",
    "    f.title AS FilmTitle\n",
    "    ,a.first_name || ' ' || a.last_name AS Name\n",
    "FROM film_actor AS fa\n",
    "JOIN film AS f\n",
    "ON fa.film_id = f.film_id\n",
    "\n",
    "JOIN actor AS a\n",
    "ON fa.actor_id = a.actor_id;\n",
    "\n",
    "\"\"\", connection)"
   ]
  },
  {
   "cell_type": "markdown",
   "metadata": {
    "papermill": {
     "duration": 0.054354,
     "end_time": "2024-07-29T13:40:51.237131",
     "exception": false,
     "start_time": "2024-07-29T13:40:51.182777",
     "status": "completed"
    },
    "tags": []
   },
   "source": [
    "Here we have the complete list of film titles matching the actors. Now to answer the second question, we will group by the actor name and count the number of movies they have starred in (we call this Performances):"
   ]
  },
  {
   "cell_type": "code",
   "execution_count": 24,
   "metadata": {
    "execution": {
     "iopub.execute_input": "2024-07-29T13:40:51.351736Z",
     "iopub.status.busy": "2024-07-29T13:40:51.350966Z",
     "iopub.status.idle": "2024-07-29T13:40:51.376036Z",
     "shell.execute_reply": "2024-07-29T13:40:51.375354Z"
    },
    "papermill": {
     "duration": 0.084448,
     "end_time": "2024-07-29T13:40:51.376211",
     "exception": false,
     "start_time": "2024-07-29T13:40:51.291763",
     "status": "completed"
    },
    "scrolled": true,
    "tags": []
   },
   "outputs": [
    {
     "data": {
      "text/html": [
       "<div>\n",
       "<style scoped>\n",
       "    .dataframe tbody tr th:only-of-type {\n",
       "        vertical-align: middle;\n",
       "    }\n",
       "\n",
       "    .dataframe tbody tr th {\n",
       "        vertical-align: top;\n",
       "    }\n",
       "\n",
       "    .dataframe thead th {\n",
       "        text-align: right;\n",
       "    }\n",
       "</style>\n",
       "<table border=\"1\" class=\"dataframe\">\n",
       "  <thead>\n",
       "    <tr style=\"text-align: right;\">\n",
       "      <th></th>\n",
       "      <th>Name</th>\n",
       "      <th>Performances</th>\n",
       "    </tr>\n",
       "  </thead>\n",
       "  <tbody>\n",
       "    <tr>\n",
       "      <th>0</th>\n",
       "      <td>WOODY HOFFMAN</td>\n",
       "      <td>15</td>\n",
       "    </tr>\n",
       "    <tr>\n",
       "      <th>1</th>\n",
       "      <td>ED CHASE</td>\n",
       "      <td>13</td>\n",
       "    </tr>\n",
       "    <tr>\n",
       "      <th>2</th>\n",
       "      <td>HELEN VOIGHT</td>\n",
       "      <td>13</td>\n",
       "    </tr>\n",
       "    <tr>\n",
       "      <th>3</th>\n",
       "      <td>JENNIFER DAVIS</td>\n",
       "      <td>13</td>\n",
       "    </tr>\n",
       "    <tr>\n",
       "      <th>4</th>\n",
       "      <td>JOHNNY LOLLOBRIGIDA</td>\n",
       "      <td>13</td>\n",
       "    </tr>\n",
       "    <tr>\n",
       "      <th>...</th>\n",
       "      <td>...</td>\n",
       "      <td>...</td>\n",
       "    </tr>\n",
       "    <tr>\n",
       "      <th>992</th>\n",
       "      <td>REESE WEST</td>\n",
       "      <td>1</td>\n",
       "    </tr>\n",
       "    <tr>\n",
       "      <th>993</th>\n",
       "      <td>SISSY SOBIESKI</td>\n",
       "      <td>1</td>\n",
       "    </tr>\n",
       "    <tr>\n",
       "      <th>994</th>\n",
       "      <td>TIM HACKMAN</td>\n",
       "      <td>1</td>\n",
       "    </tr>\n",
       "    <tr>\n",
       "      <th>995</th>\n",
       "      <td>UMA WOOD</td>\n",
       "      <td>1</td>\n",
       "    </tr>\n",
       "    <tr>\n",
       "      <th>996</th>\n",
       "      <td>VIVIEN BASINGER</td>\n",
       "      <td>1</td>\n",
       "    </tr>\n",
       "  </tbody>\n",
       "</table>\n",
       "<p>997 rows × 2 columns</p>\n",
       "</div>"
      ],
      "text/plain": [
       "                    Name  Performances\n",
       "0          WOODY HOFFMAN            15\n",
       "1               ED CHASE            13\n",
       "2           HELEN VOIGHT            13\n",
       "3         JENNIFER DAVIS            13\n",
       "4    JOHNNY LOLLOBRIGIDA            13\n",
       "..                   ...           ...\n",
       "992           REESE WEST             1\n",
       "993       SISSY SOBIESKI             1\n",
       "994          TIM HACKMAN             1\n",
       "995             UMA WOOD             1\n",
       "996      VIVIEN BASINGER             1\n",
       "\n",
       "[997 rows x 2 columns]"
      ]
     },
     "execution_count": 24,
     "metadata": {},
     "output_type": "execute_result"
    }
   ],
   "source": [
    "pd.read_sql(\"\"\"\n",
    "\n",
    "SELECT\n",
    "    a.first_name || ' ' || a.last_name AS Name\n",
    "    ,COUNT(f.title) AS Performances\n",
    "FROM film_actor AS fa\n",
    "JOIN film AS F\n",
    "ON fa.film_id = f.film_id\n",
    "\n",
    "JOIN actor AS a\n",
    "ON fa.actor_id = a.actor_id\n",
    "GROUP BY f.title\n",
    "ORDER BY Performances DESC, Name ASC\n",
    "\n",
    "\"\"\", connection)"
   ]
  },
  {
   "cell_type": "markdown",
   "metadata": {
    "papermill": {
     "duration": 0.054691,
     "end_time": "2024-07-29T13:40:51.486177",
     "exception": false,
     "start_time": "2024-07-29T13:40:51.431486",
     "status": "completed"
    },
    "tags": []
   },
   "source": [
    "One additional keyword I would like to discuss here is `HAVING`. `HAVING` can be used to filter aggregated queries, that is: queries which use GROUP BY. `HAVING` is used in SQL because the `WHERE` keyword cannot be used on aggregated queries. Remember the orded of SQL queries explained above: the `WHERE` keyword comes before GROUP BY and the `HAVING` keyword comes after `GROUP BY`. Let's query only the actors who have starred in movies more than 10 times. The following query is the same as the one above except for the addition of `HAVING Performances > 10`:"
   ]
  },
  {
   "cell_type": "code",
   "execution_count": 25,
   "metadata": {
    "execution": {
     "iopub.execute_input": "2024-07-29T13:40:51.605919Z",
     "iopub.status.busy": "2024-07-29T13:40:51.605095Z",
     "iopub.status.idle": "2024-07-29T13:40:51.626053Z",
     "shell.execute_reply": "2024-07-29T13:40:51.625337Z"
    },
    "papermill": {
     "duration": 0.081908,
     "end_time": "2024-07-29T13:40:51.626227",
     "exception": false,
     "start_time": "2024-07-29T13:40:51.544319",
     "status": "completed"
    },
    "tags": []
   },
   "outputs": [
    {
     "data": {
      "text/html": [
       "<div>\n",
       "<style scoped>\n",
       "    .dataframe tbody tr th:only-of-type {\n",
       "        vertical-align: middle;\n",
       "    }\n",
       "\n",
       "    .dataframe tbody tr th {\n",
       "        vertical-align: top;\n",
       "    }\n",
       "\n",
       "    .dataframe thead th {\n",
       "        text-align: right;\n",
       "    }\n",
       "</style>\n",
       "<table border=\"1\" class=\"dataframe\">\n",
       "  <thead>\n",
       "    <tr style=\"text-align: right;\">\n",
       "      <th></th>\n",
       "      <th>Name</th>\n",
       "      <th>Performances</th>\n",
       "    </tr>\n",
       "  </thead>\n",
       "  <tbody>\n",
       "    <tr>\n",
       "      <th>0</th>\n",
       "      <td>WOODY HOFFMAN</td>\n",
       "      <td>15</td>\n",
       "    </tr>\n",
       "    <tr>\n",
       "      <th>1</th>\n",
       "      <td>ED CHASE</td>\n",
       "      <td>13</td>\n",
       "    </tr>\n",
       "    <tr>\n",
       "      <th>2</th>\n",
       "      <td>HELEN VOIGHT</td>\n",
       "      <td>13</td>\n",
       "    </tr>\n",
       "    <tr>\n",
       "      <th>3</th>\n",
       "      <td>JENNIFER DAVIS</td>\n",
       "      <td>13</td>\n",
       "    </tr>\n",
       "    <tr>\n",
       "      <th>4</th>\n",
       "      <td>JOHNNY LOLLOBRIGIDA</td>\n",
       "      <td>13</td>\n",
       "    </tr>\n",
       "    <tr>\n",
       "      <th>5</th>\n",
       "      <td>NICK WAHLBERG</td>\n",
       "      <td>13</td>\n",
       "    </tr>\n",
       "    <tr>\n",
       "      <th>6</th>\n",
       "      <td>SISSY SOBIESKI</td>\n",
       "      <td>13</td>\n",
       "    </tr>\n",
       "    <tr>\n",
       "      <th>7</th>\n",
       "      <td>BETTE NICHOLSON</td>\n",
       "      <td>12</td>\n",
       "    </tr>\n",
       "    <tr>\n",
       "      <th>8</th>\n",
       "      <td>BETTE NICHOLSON</td>\n",
       "      <td>12</td>\n",
       "    </tr>\n",
       "    <tr>\n",
       "      <th>9</th>\n",
       "      <td>ELVIS MARX</td>\n",
       "      <td>12</td>\n",
       "    </tr>\n",
       "    <tr>\n",
       "      <th>10</th>\n",
       "      <td>GRACE MOSTEL</td>\n",
       "      <td>12</td>\n",
       "    </tr>\n",
       "    <tr>\n",
       "      <th>11</th>\n",
       "      <td>KARL BERRY</td>\n",
       "      <td>12</td>\n",
       "    </tr>\n",
       "    <tr>\n",
       "      <th>12</th>\n",
       "      <td>RIP CRAWFORD</td>\n",
       "      <td>12</td>\n",
       "    </tr>\n",
       "    <tr>\n",
       "      <th>13</th>\n",
       "      <td>CUBA OLIVIER</td>\n",
       "      <td>11</td>\n",
       "    </tr>\n",
       "    <tr>\n",
       "      <th>14</th>\n",
       "      <td>CUBA OLIVIER</td>\n",
       "      <td>11</td>\n",
       "    </tr>\n",
       "    <tr>\n",
       "      <th>15</th>\n",
       "      <td>ED CHASE</td>\n",
       "      <td>11</td>\n",
       "    </tr>\n",
       "    <tr>\n",
       "      <th>16</th>\n",
       "      <td>ED CHASE</td>\n",
       "      <td>11</td>\n",
       "    </tr>\n",
       "    <tr>\n",
       "      <th>17</th>\n",
       "      <td>JENNIFER DAVIS</td>\n",
       "      <td>11</td>\n",
       "    </tr>\n",
       "    <tr>\n",
       "      <th>18</th>\n",
       "      <td>JENNIFER DAVIS</td>\n",
       "      <td>11</td>\n",
       "    </tr>\n",
       "    <tr>\n",
       "      <th>19</th>\n",
       "      <td>JOHNNY LOLLOBRIGIDA</td>\n",
       "      <td>11</td>\n",
       "    </tr>\n",
       "    <tr>\n",
       "      <th>20</th>\n",
       "      <td>JULIA MCQUEEN</td>\n",
       "      <td>11</td>\n",
       "    </tr>\n",
       "    <tr>\n",
       "      <th>21</th>\n",
       "      <td>KARL BERRY</td>\n",
       "      <td>11</td>\n",
       "    </tr>\n",
       "    <tr>\n",
       "      <th>22</th>\n",
       "      <td>KARL BERRY</td>\n",
       "      <td>11</td>\n",
       "    </tr>\n",
       "    <tr>\n",
       "      <th>23</th>\n",
       "      <td>KIRSTEN PALTROW</td>\n",
       "      <td>11</td>\n",
       "    </tr>\n",
       "    <tr>\n",
       "      <th>24</th>\n",
       "      <td>NICK WAHLBERG</td>\n",
       "      <td>11</td>\n",
       "    </tr>\n",
       "    <tr>\n",
       "      <th>25</th>\n",
       "      <td>SANDRA KILMER</td>\n",
       "      <td>11</td>\n",
       "    </tr>\n",
       "    <tr>\n",
       "      <th>26</th>\n",
       "      <td>TIM HACKMAN</td>\n",
       "      <td>11</td>\n",
       "    </tr>\n",
       "  </tbody>\n",
       "</table>\n",
       "</div>"
      ],
      "text/plain": [
       "                   Name  Performances\n",
       "0         WOODY HOFFMAN            15\n",
       "1              ED CHASE            13\n",
       "2          HELEN VOIGHT            13\n",
       "3        JENNIFER DAVIS            13\n",
       "4   JOHNNY LOLLOBRIGIDA            13\n",
       "5         NICK WAHLBERG            13\n",
       "6        SISSY SOBIESKI            13\n",
       "7       BETTE NICHOLSON            12\n",
       "8       BETTE NICHOLSON            12\n",
       "9            ELVIS MARX            12\n",
       "10         GRACE MOSTEL            12\n",
       "11           KARL BERRY            12\n",
       "12         RIP CRAWFORD            12\n",
       "13         CUBA OLIVIER            11\n",
       "14         CUBA OLIVIER            11\n",
       "15             ED CHASE            11\n",
       "16             ED CHASE            11\n",
       "17       JENNIFER DAVIS            11\n",
       "18       JENNIFER DAVIS            11\n",
       "19  JOHNNY LOLLOBRIGIDA            11\n",
       "20        JULIA MCQUEEN            11\n",
       "21           KARL BERRY            11\n",
       "22           KARL BERRY            11\n",
       "23      KIRSTEN PALTROW            11\n",
       "24        NICK WAHLBERG            11\n",
       "25        SANDRA KILMER            11\n",
       "26          TIM HACKMAN            11"
      ]
     },
     "execution_count": 25,
     "metadata": {},
     "output_type": "execute_result"
    }
   ],
   "source": [
    "pd.read_sql(\"\"\"\n",
    "\n",
    "SELECT\n",
    "    a.first_name || ' ' || a.last_name AS Name\n",
    "    ,COUNT(f.title) AS Performances\n",
    "FROM film_actor AS fa\n",
    "JOIN film AS F\n",
    "ON fa.film_id = f.film_id\n",
    "\n",
    "JOIN actor AS a\n",
    "ON fa.actor_id = a.actor_id\n",
    "GROUP BY f.title\n",
    "HAVING Performances > 10\n",
    "ORDER BY Performances DESC, Name ASC\n",
    "\n",
    "\"\"\", connection)"
   ]
  },
  {
   "cell_type": "markdown",
   "metadata": {
    "papermill": {
     "duration": 0.055162,
     "end_time": "2024-07-29T13:40:51.738677",
     "exception": false,
     "start_time": "2024-07-29T13:40:51.683515",
     "status": "completed"
    },
    "tags": []
   },
   "source": [
    "As we see, this query now returns only 27 rows"
   ]
  },
  {
   "cell_type": "markdown",
   "metadata": {
    "papermill": {
     "duration": 0.056586,
     "end_time": "2024-07-29T13:40:51.855366",
     "exception": false,
     "start_time": "2024-07-29T13:40:51.798780",
     "status": "completed"
    },
    "tags": []
   },
   "source": [
    "<a id=\"subsection-twelve\"></a>\n",
    "### Overdue rentals \n",
    "In our rental table we have the dates when a movie has been rented and the date when it has been returned. Therefore, we can calculate how many days the customer has held the movie and compare this with the maximum rental duration for the movie , in order to see if they have held it more than \"allowed\" -> was it overdue?\n",
    "\n",
    "Let's first query this information, before making the comparisons. For the rental and return dates we use the `srtftime()` function to show just the year-month-day i.e. without the exact time. For the holding period we use the `JULIANDAY()` function to calculate the differences between the two dates, because this function calculates fractions of days, which is what we are after in this case. `ROUND()` is used to round the difference to 2 decimal places and `WHERE r.return_date IS NOT NULL` is used because when the return_date is NULL, that means the movie has not been returned yet."
   ]
  },
  {
   "cell_type": "code",
   "execution_count": 26,
   "metadata": {
    "execution": {
     "iopub.execute_input": "2024-07-29T13:40:51.976150Z",
     "iopub.status.busy": "2024-07-29T13:40:51.975206Z",
     "iopub.status.idle": "2024-07-29T13:40:52.250239Z",
     "shell.execute_reply": "2024-07-29T13:40:52.249438Z"
    },
    "papermill": {
     "duration": 0.337363,
     "end_time": "2024-07-29T13:40:52.250415",
     "exception": false,
     "start_time": "2024-07-29T13:40:51.913052",
     "status": "completed"
    },
    "scrolled": true,
    "tags": []
   },
   "outputs": [
    {
     "data": {
      "text/html": [
       "<div>\n",
       "<style scoped>\n",
       "    .dataframe tbody tr th:only-of-type {\n",
       "        vertical-align: middle;\n",
       "    }\n",
       "\n",
       "    .dataframe tbody tr th {\n",
       "        vertical-align: top;\n",
       "    }\n",
       "\n",
       "    .dataframe thead th {\n",
       "        text-align: right;\n",
       "    }\n",
       "</style>\n",
       "<table border=\"1\" class=\"dataframe\">\n",
       "  <thead>\n",
       "    <tr style=\"text-align: right;\">\n",
       "      <th></th>\n",
       "      <th>Rental_ID</th>\n",
       "      <th>Title</th>\n",
       "      <th>Rent</th>\n",
       "      <th>Return</th>\n",
       "      <th>HoldPeriod</th>\n",
       "      <th>RentalDuration</th>\n",
       "    </tr>\n",
       "  </thead>\n",
       "  <tbody>\n",
       "    <tr>\n",
       "      <th>0</th>\n",
       "      <td>1</td>\n",
       "      <td>BLANKET BEVERLY</td>\n",
       "      <td>2005-05-24</td>\n",
       "      <td>2005-05-26</td>\n",
       "      <td>1.97</td>\n",
       "      <td>7</td>\n",
       "    </tr>\n",
       "    <tr>\n",
       "      <th>1</th>\n",
       "      <td>2</td>\n",
       "      <td>FREAKY POCUS</td>\n",
       "      <td>2005-05-24</td>\n",
       "      <td>2005-05-28</td>\n",
       "      <td>3.87</td>\n",
       "      <td>7</td>\n",
       "    </tr>\n",
       "    <tr>\n",
       "      <th>2</th>\n",
       "      <td>3</td>\n",
       "      <td>GRADUATE LORD</td>\n",
       "      <td>2005-05-24</td>\n",
       "      <td>2005-06-01</td>\n",
       "      <td>7.96</td>\n",
       "      <td>7</td>\n",
       "    </tr>\n",
       "    <tr>\n",
       "      <th>3</th>\n",
       "      <td>4</td>\n",
       "      <td>LOVE SUICIDES</td>\n",
       "      <td>2005-05-24</td>\n",
       "      <td>2005-06-03</td>\n",
       "      <td>9.11</td>\n",
       "      <td>6</td>\n",
       "    </tr>\n",
       "    <tr>\n",
       "      <th>4</th>\n",
       "      <td>5</td>\n",
       "      <td>IDOLS SNATCHERS</td>\n",
       "      <td>2005-05-24</td>\n",
       "      <td>2005-06-02</td>\n",
       "      <td>8.23</td>\n",
       "      <td>5</td>\n",
       "    </tr>\n",
       "    <tr>\n",
       "      <th>...</th>\n",
       "      <td>...</td>\n",
       "      <td>...</td>\n",
       "      <td>...</td>\n",
       "      <td>...</td>\n",
       "      <td>...</td>\n",
       "      <td>...</td>\n",
       "    </tr>\n",
       "    <tr>\n",
       "      <th>15856</th>\n",
       "      <td>16045</td>\n",
       "      <td>COMANCHEROS ENEMY</td>\n",
       "      <td>2005-08-23</td>\n",
       "      <td>2005-08-25</td>\n",
       "      <td>2.06</td>\n",
       "      <td>5</td>\n",
       "    </tr>\n",
       "    <tr>\n",
       "      <th>15857</th>\n",
       "      <td>16046</td>\n",
       "      <td>VOYAGE LEGALLY</td>\n",
       "      <td>2005-08-23</td>\n",
       "      <td>2005-08-27</td>\n",
       "      <td>3.82</td>\n",
       "      <td>6</td>\n",
       "    </tr>\n",
       "    <tr>\n",
       "      <th>15858</th>\n",
       "      <td>16047</td>\n",
       "      <td>ILLUSION AMELIE</td>\n",
       "      <td>2005-08-23</td>\n",
       "      <td>2005-08-25</td>\n",
       "      <td>1.17</td>\n",
       "      <td>4</td>\n",
       "    </tr>\n",
       "    <tr>\n",
       "      <th>15859</th>\n",
       "      <td>16048</td>\n",
       "      <td>HUNCHBACK IMPOSSIBLE</td>\n",
       "      <td>2005-08-23</td>\n",
       "      <td>2005-08-31</td>\n",
       "      <td>7.95</td>\n",
       "      <td>4</td>\n",
       "    </tr>\n",
       "    <tr>\n",
       "      <th>15860</th>\n",
       "      <td>16049</td>\n",
       "      <td>MOB DUFFEL</td>\n",
       "      <td>2005-08-23</td>\n",
       "      <td>2005-08-30</td>\n",
       "      <td>6.09</td>\n",
       "      <td>4</td>\n",
       "    </tr>\n",
       "  </tbody>\n",
       "</table>\n",
       "<p>15861 rows × 6 columns</p>\n",
       "</div>"
      ],
      "text/plain": [
       "       Rental_ID                 Title        Rent      Return  HoldPeriod  \\\n",
       "0              1       BLANKET BEVERLY  2005-05-24  2005-05-26        1.97   \n",
       "1              2          FREAKY POCUS  2005-05-24  2005-05-28        3.87   \n",
       "2              3         GRADUATE LORD  2005-05-24  2005-06-01        7.96   \n",
       "3              4         LOVE SUICIDES  2005-05-24  2005-06-03        9.11   \n",
       "4              5       IDOLS SNATCHERS  2005-05-24  2005-06-02        8.23   \n",
       "...          ...                   ...         ...         ...         ...   \n",
       "15856      16045     COMANCHEROS ENEMY  2005-08-23  2005-08-25        2.06   \n",
       "15857      16046        VOYAGE LEGALLY  2005-08-23  2005-08-27        3.82   \n",
       "15858      16047       ILLUSION AMELIE  2005-08-23  2005-08-25        1.17   \n",
       "15859      16048  HUNCHBACK IMPOSSIBLE  2005-08-23  2005-08-31        7.95   \n",
       "15860      16049            MOB DUFFEL  2005-08-23  2005-08-30        6.09   \n",
       "\n",
       "       RentalDuration  \n",
       "0                   7  \n",
       "1                   7  \n",
       "2                   7  \n",
       "3                   6  \n",
       "4                   5  \n",
       "...               ...  \n",
       "15856               5  \n",
       "15857               6  \n",
       "15858               4  \n",
       "15859               4  \n",
       "15860               4  \n",
       "\n",
       "[15861 rows x 6 columns]"
      ]
     },
     "execution_count": 26,
     "metadata": {},
     "output_type": "execute_result"
    }
   ],
   "source": [
    "pd.read_sql(\"\"\"\n",
    "\n",
    "SELECT\n",
    "    r.rental_id AS Rental_ID\n",
    "    ,f.title AS Title\n",
    "    ,strftime('%Y-%m-%d', r.rental_date) AS Rent\n",
    "    ,strftime('%Y-%m-%d', r.return_date) AS Return\n",
    "    ,ROUND(JULIANDAY(r.return_date) - JULIANDAY(r.rental_date), 2) AS HoldPeriod\n",
    "    ,f.rental_duration AS RentalDuration\n",
    "FROM rental AS r\n",
    "JOIN inventory AS i ON r.inventory_id = i.inventory_id\n",
    "JOIN film AS f ON i.film_id = f.film_id\n",
    "WHERE r.return_date IS NOT NULL;\n",
    "\n",
    "\"\"\", connection)"
   ]
  },
  {
   "cell_type": "markdown",
   "metadata": {
    "papermill": {
     "duration": 0.057451,
     "end_time": "2024-07-29T13:40:52.364417",
     "exception": false,
     "start_time": "2024-07-29T13:40:52.306966",
     "status": "completed"
    },
    "tags": []
   },
   "source": [
    "Simply going over the results for HoldPeriod and RentalDuration, we can see that there have been overdue rentals.\n",
    "\n",
    "Let's now calculate the difference between HoldPeriod and RentalDuration and retrive only these rows which show overdue rentals and query the corresponding customers. To query the corresponding customers, we `JOIN` with the customer table as well:"
   ]
  },
  {
   "cell_type": "code",
   "execution_count": 27,
   "metadata": {
    "execution": {
     "iopub.execute_input": "2024-07-29T13:40:52.485008Z",
     "iopub.status.busy": "2024-07-29T13:40:52.483988Z",
     "iopub.status.idle": "2024-07-29T13:40:52.587728Z",
     "shell.execute_reply": "2024-07-29T13:40:52.587072Z"
    },
    "papermill": {
     "duration": 0.165041,
     "end_time": "2024-07-29T13:40:52.587900",
     "exception": false,
     "start_time": "2024-07-29T13:40:52.422859",
     "status": "completed"
    },
    "scrolled": true,
    "tags": []
   },
   "outputs": [
    {
     "data": {
      "text/html": [
       "<div>\n",
       "<style scoped>\n",
       "    .dataframe tbody tr th:only-of-type {\n",
       "        vertical-align: middle;\n",
       "    }\n",
       "\n",
       "    .dataframe tbody tr th {\n",
       "        vertical-align: top;\n",
       "    }\n",
       "\n",
       "    .dataframe thead th {\n",
       "        text-align: right;\n",
       "    }\n",
       "</style>\n",
       "<table border=\"1\" class=\"dataframe\">\n",
       "  <thead>\n",
       "    <tr style=\"text-align: right;\">\n",
       "      <th></th>\n",
       "      <th>Rental_ID</th>\n",
       "      <th>Name</th>\n",
       "      <th>email</th>\n",
       "      <th>Film</th>\n",
       "      <th>Overdue_Days</th>\n",
       "    </tr>\n",
       "  </thead>\n",
       "  <tbody>\n",
       "    <tr>\n",
       "      <th>0</th>\n",
       "      <td>3</td>\n",
       "      <td>MURRELL, MANUEL</td>\n",
       "      <td>MANUEL.MURRELL@sakilacustomer.org</td>\n",
       "      <td>GRADUATE LORD</td>\n",
       "      <td>0.96</td>\n",
       "    </tr>\n",
       "    <tr>\n",
       "      <th>1</th>\n",
       "      <td>4</td>\n",
       "      <td>PURDY, ANDREW</td>\n",
       "      <td>ANDREW.PURDY@sakilacustomer.org</td>\n",
       "      <td>LOVE SUICIDES</td>\n",
       "      <td>3.11</td>\n",
       "    </tr>\n",
       "    <tr>\n",
       "      <th>2</th>\n",
       "      <td>5</td>\n",
       "      <td>HANSEN, DELORES</td>\n",
       "      <td>DELORES.HANSEN@sakilacustomer.org</td>\n",
       "      <td>IDOLS SNATCHERS</td>\n",
       "      <td>3.23</td>\n",
       "    </tr>\n",
       "    <tr>\n",
       "      <th>3</th>\n",
       "      <td>7</td>\n",
       "      <td>WALTERS, CASSANDRA</td>\n",
       "      <td>CASSANDRA.WALTERS@sakilacustomer.org</td>\n",
       "      <td>SWARM GOLD</td>\n",
       "      <td>0.89</td>\n",
       "    </tr>\n",
       "    <tr>\n",
       "      <th>4</th>\n",
       "      <td>10</td>\n",
       "      <td>ISOM, DANNY</td>\n",
       "      <td>DANNY.ISOM@sakilacustomer.org</td>\n",
       "      <td>HANGING DEEP</td>\n",
       "      <td>1.95</td>\n",
       "    </tr>\n",
       "    <tr>\n",
       "      <th>...</th>\n",
       "      <td>...</td>\n",
       "      <td>...</td>\n",
       "      <td>...</td>\n",
       "      <td>...</td>\n",
       "      <td>...</td>\n",
       "    </tr>\n",
       "    <tr>\n",
       "      <th>8101</th>\n",
       "      <td>16039</td>\n",
       "      <td>WOOD, LORI</td>\n",
       "      <td>LORI.WOOD@sakilacustomer.org</td>\n",
       "      <td>CAPER MOTIONS</td>\n",
       "      <td>1.90</td>\n",
       "    </tr>\n",
       "    <tr>\n",
       "      <th>8102</th>\n",
       "      <td>16040</td>\n",
       "      <td>SIMS, VANESSA</td>\n",
       "      <td>VANESSA.SIMS@sakilacustomer.org</td>\n",
       "      <td>SCORPION APOLLO</td>\n",
       "      <td>6.17</td>\n",
       "    </tr>\n",
       "    <tr>\n",
       "      <th>8103</th>\n",
       "      <td>16043</td>\n",
       "      <td>SEAL, KARL</td>\n",
       "      <td>KARL.SEAL@sakilacustomer.org</td>\n",
       "      <td>STING PERSONAL</td>\n",
       "      <td>4.20</td>\n",
       "    </tr>\n",
       "    <tr>\n",
       "      <th>8104</th>\n",
       "      <td>16048</td>\n",
       "      <td>HAMILTON, GLADYS</td>\n",
       "      <td>GLADYS.HAMILTON@sakilacustomer.org</td>\n",
       "      <td>HUNCHBACK IMPOSSIBLE</td>\n",
       "      <td>3.95</td>\n",
       "    </tr>\n",
       "    <tr>\n",
       "      <th>8105</th>\n",
       "      <td>16049</td>\n",
       "      <td>CAUSEY, PHILIP</td>\n",
       "      <td>PHILIP.CAUSEY@sakilacustomer.org</td>\n",
       "      <td>MOB DUFFEL</td>\n",
       "      <td>2.09</td>\n",
       "    </tr>\n",
       "  </tbody>\n",
       "</table>\n",
       "<p>8106 rows × 5 columns</p>\n",
       "</div>"
      ],
      "text/plain": [
       "      Rental_ID                Name                                 email  \\\n",
       "0             3     MURRELL, MANUEL     MANUEL.MURRELL@sakilacustomer.org   \n",
       "1             4       PURDY, ANDREW       ANDREW.PURDY@sakilacustomer.org   \n",
       "2             5     HANSEN, DELORES     DELORES.HANSEN@sakilacustomer.org   \n",
       "3             7  WALTERS, CASSANDRA  CASSANDRA.WALTERS@sakilacustomer.org   \n",
       "4            10         ISOM, DANNY         DANNY.ISOM@sakilacustomer.org   \n",
       "...         ...                 ...                                   ...   \n",
       "8101      16039          WOOD, LORI          LORI.WOOD@sakilacustomer.org   \n",
       "8102      16040       SIMS, VANESSA       VANESSA.SIMS@sakilacustomer.org   \n",
       "8103      16043          SEAL, KARL          KARL.SEAL@sakilacustomer.org   \n",
       "8104      16048    HAMILTON, GLADYS    GLADYS.HAMILTON@sakilacustomer.org   \n",
       "8105      16049      CAUSEY, PHILIP      PHILIP.CAUSEY@sakilacustomer.org   \n",
       "\n",
       "                      Film  Overdue_Days  \n",
       "0            GRADUATE LORD          0.96  \n",
       "1            LOVE SUICIDES          3.11  \n",
       "2          IDOLS SNATCHERS          3.23  \n",
       "3               SWARM GOLD          0.89  \n",
       "4             HANGING DEEP          1.95  \n",
       "...                    ...           ...  \n",
       "8101         CAPER MOTIONS          1.90  \n",
       "8102       SCORPION APOLLO          6.17  \n",
       "8103        STING PERSONAL          4.20  \n",
       "8104  HUNCHBACK IMPOSSIBLE          3.95  \n",
       "8105            MOB DUFFEL          2.09  \n",
       "\n",
       "[8106 rows x 5 columns]"
      ]
     },
     "execution_count": 27,
     "metadata": {},
     "output_type": "execute_result"
    }
   ],
   "source": [
    "pd.read_sql(\"\"\"\n",
    "\n",
    "SELECT\n",
    "    r.rental_id AS Rental_ID\n",
    "    ,c.last_name || ', ' || c.first_name AS Name\n",
    "    ,c.email\n",
    "    ,f.title As Film\n",
    "    ,ROUND(JULIANDAY(r.return_date) - JULIANDAY(r.rental_date), 2) - f.rental_duration AS Overdue_Days\n",
    "FROM rental AS r\n",
    "JOIN inventory AS i ON r.inventory_id = i.inventory_id\n",
    "JOIN film AS f ON i.film_id = f.film_id\n",
    "JOIN customer AS c ON r.customer_id = c.customer_id\n",
    "WHERE r.return_date IS NOT NULL\n",
    "AND Overdue_Days > 0;\n",
    "\n",
    "\"\"\", connection)"
   ]
  },
  {
   "cell_type": "markdown",
   "metadata": {
    "papermill": {
     "duration": 0.057192,
     "end_time": "2024-07-29T13:40:52.703076",
     "exception": false,
     "start_time": "2024-07-29T13:40:52.645884",
     "status": "completed"
    },
    "tags": []
   },
   "source": [
    "We can see that a great number of rentals have been overdue, in fact more than half. This might seem like a huge number and an inadequate result, note, however, that this is a simple fictitious sample database, so the data might not be very realisic.\n",
    "\n",
    "Anyway, let's now see which customers have had the most overdue rentals. Once again, we group by the customer name and use a `COUNT()` function on the grouped data. Note that the Overdue_Days in this case have been used as a filter in the `WHERE` clause:"
   ]
  },
  {
   "cell_type": "code",
   "execution_count": 28,
   "metadata": {
    "execution": {
     "iopub.execute_input": "2024-07-29T13:40:52.824642Z",
     "iopub.status.busy": "2024-07-29T13:40:52.823693Z",
     "iopub.status.idle": "2024-07-29T13:40:52.887780Z",
     "shell.execute_reply": "2024-07-29T13:40:52.887189Z"
    },
    "papermill": {
     "duration": 0.1262,
     "end_time": "2024-07-29T13:40:52.887953",
     "exception": false,
     "start_time": "2024-07-29T13:40:52.761753",
     "status": "completed"
    },
    "scrolled": true,
    "tags": []
   },
   "outputs": [
    {
     "data": {
      "text/html": [
       "<div>\n",
       "<style scoped>\n",
       "    .dataframe tbody tr th:only-of-type {\n",
       "        vertical-align: middle;\n",
       "    }\n",
       "\n",
       "    .dataframe tbody tr th {\n",
       "        vertical-align: top;\n",
       "    }\n",
       "\n",
       "    .dataframe thead th {\n",
       "        text-align: right;\n",
       "    }\n",
       "</style>\n",
       "<table border=\"1\" class=\"dataframe\">\n",
       "  <thead>\n",
       "    <tr style=\"text-align: right;\">\n",
       "      <th></th>\n",
       "      <th>Customer_ID</th>\n",
       "      <th>Name</th>\n",
       "      <th>email</th>\n",
       "      <th>Overdue_Count</th>\n",
       "    </tr>\n",
       "  </thead>\n",
       "  <tbody>\n",
       "    <tr>\n",
       "      <th>0</th>\n",
       "      <td>295</td>\n",
       "      <td>BATES, DAISY</td>\n",
       "      <td>DAISY.BATES@sakilacustomer.org</td>\n",
       "      <td>28</td>\n",
       "    </tr>\n",
       "    <tr>\n",
       "      <th>1</th>\n",
       "      <td>137</td>\n",
       "      <td>KENNEDY, RHONDA</td>\n",
       "      <td>RHONDA.KENNEDY@sakilacustomer.org</td>\n",
       "      <td>27</td>\n",
       "    </tr>\n",
       "    <tr>\n",
       "      <th>2</th>\n",
       "      <td>526</td>\n",
       "      <td>SEAL, KARL</td>\n",
       "      <td>KARL.SEAL@sakilacustomer.org</td>\n",
       "      <td>27</td>\n",
       "    </tr>\n",
       "    <tr>\n",
       "      <th>3</th>\n",
       "      <td>148</td>\n",
       "      <td>HUNT, ELEANOR</td>\n",
       "      <td>ELEANOR.HUNT@sakilacustomer.org</td>\n",
       "      <td>25</td>\n",
       "    </tr>\n",
       "    <tr>\n",
       "      <th>4</th>\n",
       "      <td>469</td>\n",
       "      <td>BULL, WESLEY</td>\n",
       "      <td>WESLEY.BULL@sakilacustomer.org</td>\n",
       "      <td>24</td>\n",
       "    </tr>\n",
       "    <tr>\n",
       "      <th>...</th>\n",
       "      <td>...</td>\n",
       "      <td>...</td>\n",
       "      <td>...</td>\n",
       "      <td>...</td>\n",
       "    </tr>\n",
       "    <tr>\n",
       "      <th>594</th>\n",
       "      <td>378</td>\n",
       "      <td>CULPEPPER, EUGENE</td>\n",
       "      <td>EUGENE.CULPEPPER@sakilacustomer.org</td>\n",
       "      <td>5</td>\n",
       "    </tr>\n",
       "    <tr>\n",
       "      <th>595</th>\n",
       "      <td>97</td>\n",
       "      <td>RUSSELL, ANNIE</td>\n",
       "      <td>ANNIE.RUSSELL@sakilacustomer.org</td>\n",
       "      <td>5</td>\n",
       "    </tr>\n",
       "    <tr>\n",
       "      <th>596</th>\n",
       "      <td>586</td>\n",
       "      <td>STCLAIR, KIRK</td>\n",
       "      <td>KIRK.STCLAIR@sakilacustomer.org</td>\n",
       "      <td>5</td>\n",
       "    </tr>\n",
       "    <tr>\n",
       "      <th>597</th>\n",
       "      <td>395</td>\n",
       "      <td>TURPIN, JOHNNY</td>\n",
       "      <td>JOHNNY.TURPIN@sakilacustomer.org</td>\n",
       "      <td>4</td>\n",
       "    </tr>\n",
       "    <tr>\n",
       "      <th>598</th>\n",
       "      <td>413</td>\n",
       "      <td>YEE, MARVIN</td>\n",
       "      <td>MARVIN.YEE@sakilacustomer.org</td>\n",
       "      <td>3</td>\n",
       "    </tr>\n",
       "  </tbody>\n",
       "</table>\n",
       "<p>599 rows × 4 columns</p>\n",
       "</div>"
      ],
      "text/plain": [
       "     Customer_ID               Name                                email  \\\n",
       "0            295       BATES, DAISY       DAISY.BATES@sakilacustomer.org   \n",
       "1            137    KENNEDY, RHONDA    RHONDA.KENNEDY@sakilacustomer.org   \n",
       "2            526         SEAL, KARL         KARL.SEAL@sakilacustomer.org   \n",
       "3            148      HUNT, ELEANOR      ELEANOR.HUNT@sakilacustomer.org   \n",
       "4            469       BULL, WESLEY       WESLEY.BULL@sakilacustomer.org   \n",
       "..           ...                ...                                  ...   \n",
       "594          378  CULPEPPER, EUGENE  EUGENE.CULPEPPER@sakilacustomer.org   \n",
       "595           97     RUSSELL, ANNIE     ANNIE.RUSSELL@sakilacustomer.org   \n",
       "596          586      STCLAIR, KIRK      KIRK.STCLAIR@sakilacustomer.org   \n",
       "597          395     TURPIN, JOHNNY     JOHNNY.TURPIN@sakilacustomer.org   \n",
       "598          413        YEE, MARVIN        MARVIN.YEE@sakilacustomer.org   \n",
       "\n",
       "     Overdue_Count  \n",
       "0               28  \n",
       "1               27  \n",
       "2               27  \n",
       "3               25  \n",
       "4               24  \n",
       "..             ...  \n",
       "594              5  \n",
       "595              5  \n",
       "596              5  \n",
       "597              4  \n",
       "598              3  \n",
       "\n",
       "[599 rows x 4 columns]"
      ]
     },
     "execution_count": 28,
     "metadata": {},
     "output_type": "execute_result"
    }
   ],
   "source": [
    "pd.read_sql(\"\"\"\n",
    "\n",
    "SELECT\n",
    "    c.customer_id AS Customer_ID\n",
    "    ,c.last_name || ', ' || c.first_name AS Name\n",
    "    ,c.email\n",
    "    ,COUNT(*) AS Overdue_Count\n",
    "FROM rental AS r\n",
    "JOIN inventory AS i ON r.inventory_id = i.inventory_id\n",
    "JOIN film AS f ON i.film_id = f.film_id\n",
    "JOIN customer AS c ON r.customer_id = c.customer_id\n",
    "WHERE r.return_date IS NOT NULL\n",
    "AND ROUND(JULIANDAY(r.return_date) - JULIANDAY(r.rental_date), 2) - f.rental_duration > 0\n",
    "GROUP BY Name\n",
    "ORDER BY Overdue_Count DESC, Name ASC;\n",
    "\n",
    "\"\"\", connection)"
   ]
  },
  {
   "cell_type": "markdown",
   "metadata": {
    "papermill": {
     "duration": 0.059629,
     "end_time": "2024-07-29T13:40:53.008540",
     "exception": false,
     "start_time": "2024-07-29T13:40:52.948911",
     "status": "completed"
    },
    "tags": []
   },
   "source": [
    "We can see that Daisy Bates has had the most overdue rentals, but if she has had, for example, 1000 rentals, this would be proportionally a small number. Therefore, we would need to calculate the percentage of total rentals, which are overdue. Let's first look at the total rentals per customer. Here we query only the customer_id because we will use this table to JOIN with the table above."
   ]
  },
  {
   "cell_type": "code",
   "execution_count": 29,
   "metadata": {
    "execution": {
     "iopub.execute_input": "2024-07-29T13:40:53.135497Z",
     "iopub.status.busy": "2024-07-29T13:40:53.134766Z",
     "iopub.status.idle": "2024-07-29T13:40:53.221408Z",
     "shell.execute_reply": "2024-07-29T13:40:53.220725Z"
    },
    "papermill": {
     "duration": 0.152143,
     "end_time": "2024-07-29T13:40:53.221593",
     "exception": false,
     "start_time": "2024-07-29T13:40:53.069450",
     "status": "completed"
    },
    "tags": []
   },
   "outputs": [
    {
     "data": {
      "text/html": [
       "<div>\n",
       "<style scoped>\n",
       "    .dataframe tbody tr th:only-of-type {\n",
       "        vertical-align: middle;\n",
       "    }\n",
       "\n",
       "    .dataframe tbody tr th {\n",
       "        vertical-align: top;\n",
       "    }\n",
       "\n",
       "    .dataframe thead th {\n",
       "        text-align: right;\n",
       "    }\n",
       "</style>\n",
       "<table border=\"1\" class=\"dataframe\">\n",
       "  <thead>\n",
       "    <tr style=\"text-align: right;\">\n",
       "      <th></th>\n",
       "      <th>Customer_ID</th>\n",
       "      <th>Total_Count</th>\n",
       "    </tr>\n",
       "  </thead>\n",
       "  <tbody>\n",
       "    <tr>\n",
       "      <th>0</th>\n",
       "      <td>148</td>\n",
       "      <td>46</td>\n",
       "    </tr>\n",
       "    <tr>\n",
       "      <th>1</th>\n",
       "      <td>526</td>\n",
       "      <td>45</td>\n",
       "    </tr>\n",
       "    <tr>\n",
       "      <th>2</th>\n",
       "      <td>144</td>\n",
       "      <td>42</td>\n",
       "    </tr>\n",
       "    <tr>\n",
       "      <th>3</th>\n",
       "      <td>236</td>\n",
       "      <td>41</td>\n",
       "    </tr>\n",
       "    <tr>\n",
       "      <th>4</th>\n",
       "      <td>197</td>\n",
       "      <td>40</td>\n",
       "    </tr>\n",
       "    <tr>\n",
       "      <th>...</th>\n",
       "      <td>...</td>\n",
       "      <td>...</td>\n",
       "    </tr>\n",
       "    <tr>\n",
       "      <th>594</th>\n",
       "      <td>248</td>\n",
       "      <td>15</td>\n",
       "    </tr>\n",
       "    <tr>\n",
       "      <th>595</th>\n",
       "      <td>61</td>\n",
       "      <td>14</td>\n",
       "    </tr>\n",
       "    <tr>\n",
       "      <th>596</th>\n",
       "      <td>110</td>\n",
       "      <td>14</td>\n",
       "    </tr>\n",
       "    <tr>\n",
       "      <th>597</th>\n",
       "      <td>281</td>\n",
       "      <td>14</td>\n",
       "    </tr>\n",
       "    <tr>\n",
       "      <th>598</th>\n",
       "      <td>318</td>\n",
       "      <td>12</td>\n",
       "    </tr>\n",
       "  </tbody>\n",
       "</table>\n",
       "<p>599 rows × 2 columns</p>\n",
       "</div>"
      ],
      "text/plain": [
       "     Customer_ID  Total_Count\n",
       "0            148           46\n",
       "1            526           45\n",
       "2            144           42\n",
       "3            236           41\n",
       "4            197           40\n",
       "..           ...          ...\n",
       "594          248           15\n",
       "595           61           14\n",
       "596          110           14\n",
       "597          281           14\n",
       "598          318           12\n",
       "\n",
       "[599 rows x 2 columns]"
      ]
     },
     "execution_count": 29,
     "metadata": {},
     "output_type": "execute_result"
    }
   ],
   "source": [
    "pd.read_sql(\"\"\"\n",
    "\n",
    "SELECT \n",
    "    customer.customer_id AS Customer_ID\n",
    "    ,COUNT(*) AS Total_Count\n",
    "FROM rental\n",
    "JOIN customer ON rental.customer_id = customer.customer_id\n",
    "WHERE return_date IS NOT NULL\n",
    "GROUP BY rental.customer_id\n",
    "ORDER BY Total_Count DESC;\n",
    "\n",
    "\"\"\", connection)"
   ]
  },
  {
   "cell_type": "markdown",
   "metadata": {
    "papermill": {
     "duration": 0.059262,
     "end_time": "2024-07-29T13:40:53.342002",
     "exception": false,
     "start_time": "2024-07-29T13:40:53.282740",
     "status": "completed"
    },
    "tags": []
   },
   "source": [
    "Now let's calculate the percentage of overdue rentals. The following query might seem very long but it is in fact just the same two tables from above used as subqueries and JOINed together. Subqueries are simply the results from one query used in another query. In this case we use two queries, which we JOIN together on the customer_id, and retrieve columns from the resulting JOINed table. In SQL `--` is used for comments and I have used `-- FISRT TABLE` and `-- SECOND TABLE` to highlight where the tables start."
   ]
  },
  {
   "cell_type": "code",
   "execution_count": 30,
   "metadata": {
    "execution": {
     "iopub.execute_input": "2024-07-29T13:40:53.467486Z",
     "iopub.status.busy": "2024-07-29T13:40:53.466594Z",
     "iopub.status.idle": "2024-07-29T13:40:53.613379Z",
     "shell.execute_reply": "2024-07-29T13:40:53.612692Z"
    },
    "papermill": {
     "duration": 0.212154,
     "end_time": "2024-07-29T13:40:53.613567",
     "exception": false,
     "start_time": "2024-07-29T13:40:53.401413",
     "status": "completed"
    },
    "tags": []
   },
   "outputs": [
    {
     "data": {
      "text/html": [
       "<div>\n",
       "<style scoped>\n",
       "    .dataframe tbody tr th:only-of-type {\n",
       "        vertical-align: middle;\n",
       "    }\n",
       "\n",
       "    .dataframe tbody tr th {\n",
       "        vertical-align: top;\n",
       "    }\n",
       "\n",
       "    .dataframe thead th {\n",
       "        text-align: right;\n",
       "    }\n",
       "</style>\n",
       "<table border=\"1\" class=\"dataframe\">\n",
       "  <thead>\n",
       "    <tr style=\"text-align: right;\">\n",
       "      <th></th>\n",
       "      <th>Name</th>\n",
       "      <th>email</th>\n",
       "      <th>PercentOverdue</th>\n",
       "    </tr>\n",
       "  </thead>\n",
       "  <tbody>\n",
       "    <tr>\n",
       "      <th>0</th>\n",
       "      <td>SCHULER, KEVIN</td>\n",
       "      <td>KEVIN.SCHULER@sakilacustomer.org</td>\n",
       "      <td>0.86</td>\n",
       "    </tr>\n",
       "    <tr>\n",
       "      <th>1</th>\n",
       "      <td>MCCARTNEY, JESUS</td>\n",
       "      <td>JESUS.MCCARTNEY@sakilacustomer.org</td>\n",
       "      <td>0.83</td>\n",
       "    </tr>\n",
       "    <tr>\n",
       "      <th>2</th>\n",
       "      <td>TIRADO, LONNIE</td>\n",
       "      <td>LONNIE.TIRADO@sakilacustomer.org</td>\n",
       "      <td>0.78</td>\n",
       "    </tr>\n",
       "    <tr>\n",
       "      <th>3</th>\n",
       "      <td>BATES, DAISY</td>\n",
       "      <td>DAISY.BATES@sakilacustomer.org</td>\n",
       "      <td>0.76</td>\n",
       "    </tr>\n",
       "    <tr>\n",
       "      <th>4</th>\n",
       "      <td>MEEK, ANTONIO</td>\n",
       "      <td>ANTONIO.MEEK@sakilacustomer.org</td>\n",
       "      <td>0.75</td>\n",
       "    </tr>\n",
       "    <tr>\n",
       "      <th>...</th>\n",
       "      <td>...</td>\n",
       "      <td>...</td>\n",
       "      <td>...</td>\n",
       "    </tr>\n",
       "    <tr>\n",
       "      <th>594</th>\n",
       "      <td>CULPEPPER, EUGENE</td>\n",
       "      <td>EUGENE.CULPEPPER@sakilacustomer.org</td>\n",
       "      <td>0.26</td>\n",
       "    </tr>\n",
       "    <tr>\n",
       "      <th>595</th>\n",
       "      <td>STCLAIR, KIRK</td>\n",
       "      <td>KIRK.STCLAIR@sakilacustomer.org</td>\n",
       "      <td>0.26</td>\n",
       "    </tr>\n",
       "    <tr>\n",
       "      <th>596</th>\n",
       "      <td>CHRISTENSON, NELSON</td>\n",
       "      <td>NELSON.CHRISTENSON@sakilacustomer.org</td>\n",
       "      <td>0.25</td>\n",
       "    </tr>\n",
       "    <tr>\n",
       "      <th>597</th>\n",
       "      <td>TURPIN, JOHNNY</td>\n",
       "      <td>JOHNNY.TURPIN@sakilacustomer.org</td>\n",
       "      <td>0.21</td>\n",
       "    </tr>\n",
       "    <tr>\n",
       "      <th>598</th>\n",
       "      <td>YEE, MARVIN</td>\n",
       "      <td>MARVIN.YEE@sakilacustomer.org</td>\n",
       "      <td>0.14</td>\n",
       "    </tr>\n",
       "  </tbody>\n",
       "</table>\n",
       "<p>599 rows × 3 columns</p>\n",
       "</div>"
      ],
      "text/plain": [
       "                    Name                                  email  \\\n",
       "0         SCHULER, KEVIN       KEVIN.SCHULER@sakilacustomer.org   \n",
       "1       MCCARTNEY, JESUS     JESUS.MCCARTNEY@sakilacustomer.org   \n",
       "2         TIRADO, LONNIE       LONNIE.TIRADO@sakilacustomer.org   \n",
       "3           BATES, DAISY         DAISY.BATES@sakilacustomer.org   \n",
       "4          MEEK, ANTONIO        ANTONIO.MEEK@sakilacustomer.org   \n",
       "..                   ...                                    ...   \n",
       "594    CULPEPPER, EUGENE    EUGENE.CULPEPPER@sakilacustomer.org   \n",
       "595        STCLAIR, KIRK        KIRK.STCLAIR@sakilacustomer.org   \n",
       "596  CHRISTENSON, NELSON  NELSON.CHRISTENSON@sakilacustomer.org   \n",
       "597       TURPIN, JOHNNY       JOHNNY.TURPIN@sakilacustomer.org   \n",
       "598          YEE, MARVIN          MARVIN.YEE@sakilacustomer.org   \n",
       "\n",
       "     PercentOverdue  \n",
       "0              0.86  \n",
       "1              0.83  \n",
       "2              0.78  \n",
       "3              0.76  \n",
       "4              0.75  \n",
       "..              ...  \n",
       "594            0.26  \n",
       "595            0.26  \n",
       "596            0.25  \n",
       "597            0.21  \n",
       "598            0.14  \n",
       "\n",
       "[599 rows x 3 columns]"
      ]
     },
     "execution_count": 30,
     "metadata": {},
     "output_type": "execute_result"
    }
   ],
   "source": [
    "pd.read_sql(\"\"\"\n",
    "\n",
    "SELECT\n",
    "    Overdue_Table.Name\n",
    "    ,Overdue_Table.email\n",
    "    ,ROUND(Overdue_Table.Overdue_Count * 1.0 / Total_Table.Total_Count, 2) AS PercentOverdue\n",
    "\n",
    "-- FIRST TABLE\n",
    "FROM (SELECT \n",
    "    customer.customer_id AS Customer_ID\n",
    "    ,COUNT(*) AS Total_Count\n",
    "FROM rental\n",
    "JOIN customer ON rental.customer_id = customer.customer_id\n",
    "WHERE return_date IS NOT NULL\n",
    "GROUP BY rental.customer_id\n",
    "ORDER BY Total_Count DESC) AS Total_Table\n",
    "\n",
    "--SECOND TABLE\n",
    "JOIN (SELECT\n",
    "    c.customer_id AS Customer_ID\n",
    "    ,c.last_name || ', ' || c.first_name AS Name\n",
    "    ,c.email\n",
    "    ,COUNT(*) AS Overdue_Count\n",
    "FROM rental AS r\n",
    "JOIN inventory AS i ON r.inventory_id = i.inventory_id\n",
    "JOIN film AS f ON i.film_id = f.film_id\n",
    "JOIN customer AS c ON r.customer_id = c.customer_id\n",
    "WHERE r.return_date IS NOT NULL\n",
    "AND ROUND(JULIANDAY(r.return_date) - JULIANDAY(r.rental_date), 2) - f.rental_duration > 0\n",
    "GROUP BY Name\n",
    "ORDER BY Overdue_Count DESC, Name ASC) AS Overdue_Table\n",
    "ON Total_Table.Customer_ID = Overdue_Table.Customer_ID\n",
    "ORDER BY PercentOverdue DESC;\n",
    "\n",
    "\"\"\", connection)"
   ]
  },
  {
   "cell_type": "markdown",
   "metadata": {
    "papermill": {
     "duration": 0.059204,
     "end_time": "2024-07-29T13:40:53.734622",
     "exception": false,
     "start_time": "2024-07-29T13:40:53.675418",
     "status": "completed"
    },
    "tags": []
   },
   "source": [
    "We see very big numbers for overdue percentages, but once again, I remind you that this is a fictitious sample database, so the data is likely unrealisic. Note that even though Daisy Bates had the highest number of overdue rentals, she is fourth when percentages of overdue rentals are considered."
   ]
  },
  {
   "cell_type": "markdown",
   "metadata": {
    "papermill": {
     "duration": 0.06036,
     "end_time": "2024-07-29T13:40:53.855259",
     "exception": false,
     "start_time": "2024-07-29T13:40:53.794899",
     "status": "completed"
    },
    "tags": []
   },
   "source": [
    "<a id=\"subsection-thirteen\"></a>\n",
    "### Payments per rental, payments per date, payments per store\n",
    "Since we saw that there have been a lot of overdue rentals, let's now check if there have been extra payments or overdue taxes in cases when a movie has been returned after the maximum rental duration.\n",
    "\n",
    "Here we use a `LEFT JOIN` because we want to return all payments even if for some reason they are not associated with a rental. Let's group by rental to see if there have been multiple payments for 1 rental:"
   ]
  },
  {
   "cell_type": "code",
   "execution_count": 31,
   "metadata": {
    "execution": {
     "iopub.execute_input": "2024-07-29T13:40:53.981375Z",
     "iopub.status.busy": "2024-07-29T13:40:53.980558Z",
     "iopub.status.idle": "2024-07-29T13:40:54.130879Z",
     "shell.execute_reply": "2024-07-29T13:40:54.131406Z"
    },
    "papermill": {
     "duration": 0.216795,
     "end_time": "2024-07-29T13:40:54.131635",
     "exception": false,
     "start_time": "2024-07-29T13:40:53.914840",
     "status": "completed"
    },
    "scrolled": true,
    "tags": []
   },
   "outputs": [
    {
     "data": {
      "text/html": [
       "<div>\n",
       "<style scoped>\n",
       "    .dataframe tbody tr th:only-of-type {\n",
       "        vertical-align: middle;\n",
       "    }\n",
       "\n",
       "    .dataframe tbody tr th {\n",
       "        vertical-align: top;\n",
       "    }\n",
       "\n",
       "    .dataframe thead th {\n",
       "        text-align: right;\n",
       "    }\n",
       "</style>\n",
       "<table border=\"1\" class=\"dataframe\">\n",
       "  <thead>\n",
       "    <tr style=\"text-align: right;\">\n",
       "      <th></th>\n",
       "      <th>rental_id</th>\n",
       "      <th>Count_Payments</th>\n",
       "    </tr>\n",
       "  </thead>\n",
       "  <tbody>\n",
       "    <tr>\n",
       "      <th>0</th>\n",
       "      <td>NaN</td>\n",
       "      <td>5</td>\n",
       "    </tr>\n",
       "    <tr>\n",
       "      <th>1</th>\n",
       "      <td>16049.0</td>\n",
       "      <td>1</td>\n",
       "    </tr>\n",
       "    <tr>\n",
       "      <th>2</th>\n",
       "      <td>16048.0</td>\n",
       "      <td>1</td>\n",
       "    </tr>\n",
       "    <tr>\n",
       "      <th>3</th>\n",
       "      <td>16047.0</td>\n",
       "      <td>1</td>\n",
       "    </tr>\n",
       "    <tr>\n",
       "      <th>4</th>\n",
       "      <td>16046.0</td>\n",
       "      <td>1</td>\n",
       "    </tr>\n",
       "    <tr>\n",
       "      <th>5</th>\n",
       "      <td>16045.0</td>\n",
       "      <td>1</td>\n",
       "    </tr>\n",
       "    <tr>\n",
       "      <th>6</th>\n",
       "      <td>16044.0</td>\n",
       "      <td>1</td>\n",
       "    </tr>\n",
       "    <tr>\n",
       "      <th>7</th>\n",
       "      <td>16043.0</td>\n",
       "      <td>1</td>\n",
       "    </tr>\n",
       "    <tr>\n",
       "      <th>8</th>\n",
       "      <td>16042.0</td>\n",
       "      <td>1</td>\n",
       "    </tr>\n",
       "    <tr>\n",
       "      <th>9</th>\n",
       "      <td>16041.0</td>\n",
       "      <td>1</td>\n",
       "    </tr>\n",
       "  </tbody>\n",
       "</table>\n",
       "</div>"
      ],
      "text/plain": [
       "   rental_id  Count_Payments\n",
       "0        NaN               5\n",
       "1    16049.0               1\n",
       "2    16048.0               1\n",
       "3    16047.0               1\n",
       "4    16046.0               1\n",
       "5    16045.0               1\n",
       "6    16044.0               1\n",
       "7    16043.0               1\n",
       "8    16042.0               1\n",
       "9    16041.0               1"
      ]
     },
     "execution_count": 31,
     "metadata": {},
     "output_type": "execute_result"
    }
   ],
   "source": [
    "pd.read_sql(\"\"\"\n",
    "\n",
    "SELECT \n",
    "    r.rental_id\n",
    "    ,COUNT(*) AS Count_Payments\n",
    "FROM payment AS p\n",
    "LEFT JOIN rental AS r\n",
    "ON p.rental_id = r.rental_id\n",
    "GROUP BY p.rental_id\n",
    "ORDER BY Count_Payments DESC\n",
    "LIMIT 10;\n",
    "\n",
    "\"\"\", connection)"
   ]
  },
  {
   "cell_type": "markdown",
   "metadata": {
    "papermill": {
     "duration": 0.05947,
     "end_time": "2024-07-29T13:40:54.251638",
     "exception": false,
     "start_time": "2024-07-29T13:40:54.192168",
     "status": "completed"
    },
    "tags": []
   },
   "source": [
    "As we see, there haven't been multiple payments for one rental and hence no extra has been charged for overdue rentals. Once again, note that this is a sample database. The count of 5 for the NaN are simply the rows we retrieved in an earlier query.\n",
    "\n",
    "Let's now calculate the total payments i.e. sales for each month. We use `strftime()` to retrieve only the year and month and use the `SUM()` function on the data grouped by Date:"
   ]
  },
  {
   "cell_type": "code",
   "execution_count": 32,
   "metadata": {
    "execution": {
     "iopub.execute_input": "2024-07-29T13:40:54.376065Z",
     "iopub.status.busy": "2024-07-29T13:40:54.375254Z",
     "iopub.status.idle": "2024-07-29T13:40:54.401567Z",
     "shell.execute_reply": "2024-07-29T13:40:54.400816Z"
    },
    "papermill": {
     "duration": 0.090554,
     "end_time": "2024-07-29T13:40:54.401766",
     "exception": false,
     "start_time": "2024-07-29T13:40:54.311212",
     "status": "completed"
    },
    "tags": []
   },
   "outputs": [
    {
     "data": {
      "text/html": [
       "<div>\n",
       "<style scoped>\n",
       "    .dataframe tbody tr th:only-of-type {\n",
       "        vertical-align: middle;\n",
       "    }\n",
       "\n",
       "    .dataframe tbody tr th {\n",
       "        vertical-align: top;\n",
       "    }\n",
       "\n",
       "    .dataframe thead th {\n",
       "        text-align: right;\n",
       "    }\n",
       "</style>\n",
       "<table border=\"1\" class=\"dataframe\">\n",
       "  <thead>\n",
       "    <tr style=\"text-align: right;\">\n",
       "      <th></th>\n",
       "      <th>Date</th>\n",
       "      <th>Sales</th>\n",
       "    </tr>\n",
       "  </thead>\n",
       "  <tbody>\n",
       "    <tr>\n",
       "      <th>0</th>\n",
       "      <td>2005-05</td>\n",
       "      <td>4824.0</td>\n",
       "    </tr>\n",
       "    <tr>\n",
       "      <th>1</th>\n",
       "      <td>2005-06</td>\n",
       "      <td>9632.0</td>\n",
       "    </tr>\n",
       "    <tr>\n",
       "      <th>2</th>\n",
       "      <td>2005-07</td>\n",
       "      <td>28374.0</td>\n",
       "    </tr>\n",
       "    <tr>\n",
       "      <th>3</th>\n",
       "      <td>2005-08</td>\n",
       "      <td>24072.0</td>\n",
       "    </tr>\n",
       "    <tr>\n",
       "      <th>4</th>\n",
       "      <td>2006-02</td>\n",
       "      <td>514.0</td>\n",
       "    </tr>\n",
       "  </tbody>\n",
       "</table>\n",
       "</div>"
      ],
      "text/plain": [
       "      Date    Sales\n",
       "0  2005-05   4824.0\n",
       "1  2005-06   9632.0\n",
       "2  2005-07  28374.0\n",
       "3  2005-08  24072.0\n",
       "4  2006-02    514.0"
      ]
     },
     "execution_count": 32,
     "metadata": {},
     "output_type": "execute_result"
    }
   ],
   "source": [
    "sales_per_month = pd.read_sql(\"\"\"\n",
    "\n",
    "SELECT  \n",
    "    strftime('%Y-%m', payment_date) AS Date\n",
    "    ,ROUND(SUM(amount), 0) AS Sales\n",
    "FROM payment\n",
    "GROUP BY Date\n",
    "ORDER BY Date ASC\n",
    "\n",
    "\"\"\", connection)\n",
    "\n",
    "sales_per_month"
   ]
  },
  {
   "cell_type": "markdown",
   "metadata": {
    "papermill": {
     "duration": 0.061211,
     "end_time": "2024-07-29T13:40:54.523456",
     "exception": false,
     "start_time": "2024-07-29T13:40:54.462245",
     "status": "completed"
    },
    "tags": []
   },
   "source": [
    "What we see is that there is data only for May, June, July and August 2005 and February 2006. Perhaps the stores were being renovated and hence the business operations were closed for several months and reopened in February 2006, which is considered the \"present\" date.\n",
    "\n",
    "Let's now visualise these results, excluding the last row for February 2006:"
   ]
  },
  {
   "cell_type": "code",
   "execution_count": 33,
   "metadata": {
    "execution": {
     "iopub.execute_input": "2024-07-29T13:40:54.654520Z",
     "iopub.status.busy": "2024-07-29T13:40:54.653640Z",
     "iopub.status.idle": "2024-07-29T13:40:54.657604Z",
     "shell.execute_reply": "2024-07-29T13:40:54.657000Z"
    },
    "papermill": {
     "duration": 0.07188,
     "end_time": "2024-07-29T13:40:54.657799",
     "exception": false,
     "start_time": "2024-07-29T13:40:54.585919",
     "status": "completed"
    },
    "tags": []
   },
   "outputs": [],
   "source": [
    "sales_per_month = sales_per_month.iloc[0:4].set_index(\"Date\") # drop the last row and make Date the index"
   ]
  },
  {
   "cell_type": "code",
   "execution_count": 34,
   "metadata": {
    "_kg_hide-input": true,
    "execution": {
     "iopub.execute_input": "2024-07-29T13:40:54.802936Z",
     "iopub.status.busy": "2024-07-29T13:40:54.794900Z",
     "iopub.status.idle": "2024-07-29T13:40:54.969981Z",
     "shell.execute_reply": "2024-07-29T13:40:54.969250Z"
    },
    "papermill": {
     "duration": 0.250826,
     "end_time": "2024-07-29T13:40:54.970147",
     "exception": false,
     "start_time": "2024-07-29T13:40:54.719321",
     "status": "completed"
    },
    "tags": []
   },
   "outputs": [
    {
     "data": {
      "image/png": "[encoded data removed]",
      "text/plain": [
       "<Figure size 720x360 with 1 Axes>"
      ]
     },
     "metadata": {
      "needs_background": "light"
     },
     "output_type": "display_data"
    }
   ],
   "source": [
    "fig, ax = plt.subplots(figsize = (10,5))\n",
    "ax.plot(sales_per_month,\"bo-\")\n",
    "ax.set_ylim(ymin = 0, ymax = 32000)\n",
    "ax.set_title(\"Sales Per Month\")\n",
    "ax.set_ylabel(\"Sales\")\n",
    "\n",
    "for date, sales in sales_per_month[\"Sales\"].items():\n",
    "    ax.annotate(str(\"${:,.0f}\".format(sales)),\n",
    "                xy=(date, sales+1000),\n",
    "               fontweight = \"semibold\",\n",
    "               fontsize = 12)\n",
    "\n",
    "plt.show()"
   ]
  },
  {
   "cell_type": "markdown",
   "metadata": {
    "papermill": {
     "duration": 0.062487,
     "end_time": "2024-07-29T13:40:55.096979",
     "exception": false,
     "start_time": "2024-07-29T13:40:55.034492",
     "status": "completed"
    },
    "tags": []
   },
   "source": [
    "Finally, since there are two stores, let's see how much sales each store has generated:"
   ]
  },
  {
   "cell_type": "code",
   "execution_count": 35,
   "metadata": {
    "execution": {
     "iopub.execute_input": "2024-07-29T13:40:55.227145Z",
     "iopub.status.busy": "2024-07-29T13:40:55.226221Z",
     "iopub.status.idle": "2024-07-29T13:40:55.295639Z",
     "shell.execute_reply": "2024-07-29T13:40:55.294797Z"
    },
    "papermill": {
     "duration": 0.13695,
     "end_time": "2024-07-29T13:40:55.295841",
     "exception": false,
     "start_time": "2024-07-29T13:40:55.158891",
     "status": "completed"
    },
    "scrolled": true,
    "tags": []
   },
   "outputs": [
    {
     "data": {
      "text/html": [
       "<div>\n",
       "<style scoped>\n",
       "    .dataframe tbody tr th:only-of-type {\n",
       "        vertical-align: middle;\n",
       "    }\n",
       "\n",
       "    .dataframe tbody tr th {\n",
       "        vertical-align: top;\n",
       "    }\n",
       "\n",
       "    .dataframe thead th {\n",
       "        text-align: right;\n",
       "    }\n",
       "</style>\n",
       "<table border=\"1\" class=\"dataframe\">\n",
       "  <thead>\n",
       "    <tr style=\"text-align: right;\">\n",
       "      <th></th>\n",
       "      <th>Sales</th>\n",
       "    </tr>\n",
       "    <tr>\n",
       "      <th>store_id</th>\n",
       "      <th></th>\n",
       "    </tr>\n",
       "  </thead>\n",
       "  <tbody>\n",
       "    <tr>\n",
       "      <th>1</th>\n",
       "      <td>33489.0</td>\n",
       "    </tr>\n",
       "    <tr>\n",
       "      <th>2</th>\n",
       "      <td>33927.0</td>\n",
       "    </tr>\n",
       "  </tbody>\n",
       "</table>\n",
       "</div>"
      ],
      "text/plain": [
       "            Sales\n",
       "store_id         \n",
       "1         33489.0\n",
       "2         33927.0"
      ]
     },
     "execution_count": 35,
     "metadata": {},
     "output_type": "execute_result"
    }
   ],
   "source": [
    "sales_per_store = pd.read_sql(\"\"\"\n",
    "\n",
    "SELECT  \n",
    "    s.store_id\n",
    "    ,ROUND(SUM(p.amount), 0) AS Sales\n",
    "FROM payment AS p\n",
    "JOIN staff AS s\n",
    "ON p.staff_id = s.staff_id\n",
    "GROUP BY p.staff_id\n",
    "\n",
    "\"\"\", connection).set_index(\"store_id\")\n",
    "\n",
    "sales_per_store"
   ]
  },
  {
   "cell_type": "code",
   "execution_count": 36,
   "metadata": {
    "_kg_hide-input": true,
    "execution": {
     "iopub.execute_input": "2024-07-29T13:40:55.449927Z",
     "iopub.status.busy": "2024-07-29T13:40:55.447479Z",
     "iopub.status.idle": "2024-07-29T13:40:55.576218Z",
     "shell.execute_reply": "2024-07-29T13:40:55.575495Z"
    },
    "papermill": {
     "duration": 0.216428,
     "end_time": "2024-07-29T13:40:55.576378",
     "exception": false,
     "start_time": "2024-07-29T13:40:55.359950",
     "status": "completed"
    },
    "tags": []
   },
   "outputs": [
    {
     "data": {
      "image/png": "[encoded data removed]",
      "text/plain": [
       "<Figure size 720x360 with 1 Axes>"
      ]
     },
     "metadata": {},
     "output_type": "display_data"
    }
   ],
   "source": [
    "plt.style.use(\"seaborn\")\n",
    "fig, ax = plt.subplots(figsize = (10,5))\n",
    "\n",
    "def func(pct, allvals):\n",
    "    absolute = int(pct/100.*np.sum(allvals))\n",
    "    return \"${:,.0f}\\n({:.1f}%)\".format(absolute, pct)\n",
    "\n",
    "\n",
    "wedges, texts, autotexts = ax.pie(sales_per_store[\"Sales\"],\n",
    "       labels = sales_per_store.index,\n",
    "       autopct=lambda pct: func(pct, sales_per_store[\"Sales\"]),\n",
    "       textprops=dict(color=\"w\", fontsize = 15, fontweight = \"semibold\"))\n",
    "ax.legend(wedges, sales_per_store.index,\n",
    "          title=\"Store\",\n",
    "          fontsize = 12,\n",
    "          loc=\"center left\",\n",
    "          bbox_to_anchor=(1, 0.2, 0.5, 1))\n",
    "ax.set_title(\"Sales Per Store\", fontsize = 18)\n",
    "plt.rcParams['legend.title_fontsize'] = 18\n",
    "\n",
    "\n",
    "plt.show()"
   ]
  },
  {
   "cell_type": "markdown",
   "metadata": {
    "papermill": {
     "duration": 0.065112,
     "end_time": "2024-07-29T13:40:55.706157",
     "exception": false,
     "start_time": "2024-07-29T13:40:55.641045",
     "status": "completed"
    },
    "tags": []
   },
   "source": [
    "<a id=\"section-four\"></a>\n",
    "## Demonstration of Python's merge - equivalent to SQL's JOIN\n",
    "Finally, I want to show you the equivalent way to `JOIN` tables in Python. We will again answer a question from above, this time in Python:"
   ]
  },
  {
   "cell_type": "markdown",
   "metadata": {
    "papermill": {
     "duration": 0.064254,
     "end_time": "2024-07-29T13:40:55.834665",
     "exception": false,
     "start_time": "2024-07-29T13:40:55.770411",
     "status": "completed"
    },
    "tags": []
   },
   "source": [
    "<a id=\"subsection-fourteen\"></a>\n",
    "### Which movies of rating 'PG' are held in highest quantity in the inventory? (Python version)\n",
    "First get the inventory_id and film_id from the inventory table:"
   ]
  },
  {
   "cell_type": "code",
   "execution_count": 37,
   "metadata": {
    "execution": {
     "iopub.execute_input": "2024-07-29T13:40:55.972102Z",
     "iopub.status.busy": "2024-07-29T13:40:55.971158Z",
     "iopub.status.idle": "2024-07-29T13:40:55.999031Z",
     "shell.execute_reply": "2024-07-29T13:40:55.998209Z"
    },
    "papermill": {
     "duration": 0.100299,
     "end_time": "2024-07-29T13:40:55.999224",
     "exception": false,
     "start_time": "2024-07-29T13:40:55.898925",
     "status": "completed"
    },
    "tags": []
   },
   "outputs": [
    {
     "data": {
      "text/html": [
       "<div>\n",
       "<style scoped>\n",
       "    .dataframe tbody tr th:only-of-type {\n",
       "        vertical-align: middle;\n",
       "    }\n",
       "\n",
       "    .dataframe tbody tr th {\n",
       "        vertical-align: top;\n",
       "    }\n",
       "\n",
       "    .dataframe thead th {\n",
       "        text-align: right;\n",
       "    }\n",
       "</style>\n",
       "<table border=\"1\" class=\"dataframe\">\n",
       "  <thead>\n",
       "    <tr style=\"text-align: right;\">\n",
       "      <th></th>\n",
       "      <th>inventory_id</th>\n",
       "      <th>film_id</th>\n",
       "    </tr>\n",
       "  </thead>\n",
       "  <tbody>\n",
       "    <tr>\n",
       "      <th>0</th>\n",
       "      <td>1</td>\n",
       "      <td>1</td>\n",
       "    </tr>\n",
       "    <tr>\n",
       "      <th>1</th>\n",
       "      <td>2</td>\n",
       "      <td>1</td>\n",
       "    </tr>\n",
       "    <tr>\n",
       "      <th>2</th>\n",
       "      <td>3</td>\n",
       "      <td>1</td>\n",
       "    </tr>\n",
       "    <tr>\n",
       "      <th>3</th>\n",
       "      <td>4</td>\n",
       "      <td>1</td>\n",
       "    </tr>\n",
       "    <tr>\n",
       "      <th>4</th>\n",
       "      <td>5</td>\n",
       "      <td>1</td>\n",
       "    </tr>\n",
       "    <tr>\n",
       "      <th>5</th>\n",
       "      <td>6</td>\n",
       "      <td>1</td>\n",
       "    </tr>\n",
       "    <tr>\n",
       "      <th>6</th>\n",
       "      <td>7</td>\n",
       "      <td>1</td>\n",
       "    </tr>\n",
       "    <tr>\n",
       "      <th>7</th>\n",
       "      <td>8</td>\n",
       "      <td>1</td>\n",
       "    </tr>\n",
       "    <tr>\n",
       "      <th>8</th>\n",
       "      <td>9</td>\n",
       "      <td>2</td>\n",
       "    </tr>\n",
       "    <tr>\n",
       "      <th>9</th>\n",
       "      <td>10</td>\n",
       "      <td>2</td>\n",
       "    </tr>\n",
       "  </tbody>\n",
       "</table>\n",
       "</div>"
      ],
      "text/plain": [
       "   inventory_id  film_id\n",
       "0             1        1\n",
       "1             2        1\n",
       "2             3        1\n",
       "3             4        1\n",
       "4             5        1\n",
       "5             6        1\n",
       "6             7        1\n",
       "7             8        1\n",
       "8             9        2\n",
       "9            10        2"
      ]
     },
     "execution_count": 37,
     "metadata": {},
     "output_type": "execute_result"
    }
   ],
   "source": [
    "table1 = pd.read_sql(\"\"\"\n",
    "\n",
    "SELECT \n",
    "    inventory_id\n",
    "    ,film_id\n",
    "FROM inventory;\n",
    "\n",
    "\"\"\", connection)\n",
    "\n",
    "table1.head(10)"
   ]
  },
  {
   "cell_type": "code",
   "execution_count": 38,
   "metadata": {
    "execution": {
     "iopub.execute_input": "2024-07-29T13:40:56.165546Z",
     "iopub.status.busy": "2024-07-29T13:40:56.164536Z",
     "iopub.status.idle": "2024-07-29T13:40:56.199769Z",
     "shell.execute_reply": "2024-07-29T13:40:56.199079Z"
    },
    "papermill": {
     "duration": 0.122211,
     "end_time": "2024-07-29T13:40:56.200028",
     "exception": false,
     "start_time": "2024-07-29T13:40:56.077817",
     "status": "completed"
    },
    "tags": []
   },
   "outputs": [
    {
     "data": {
      "text/html": [
       "<div>\n",
       "<style scoped>\n",
       "    .dataframe tbody tr th:only-of-type {\n",
       "        vertical-align: middle;\n",
       "    }\n",
       "\n",
       "    .dataframe tbody tr th {\n",
       "        vertical-align: top;\n",
       "    }\n",
       "\n",
       "    .dataframe thead th {\n",
       "        text-align: right;\n",
       "    }\n",
       "</style>\n",
       "<table border=\"1\" class=\"dataframe\">\n",
       "  <thead>\n",
       "    <tr style=\"text-align: right;\">\n",
       "      <th></th>\n",
       "      <th>film_id</th>\n",
       "      <th>Title</th>\n",
       "    </tr>\n",
       "  </thead>\n",
       "  <tbody>\n",
       "    <tr>\n",
       "      <th>0</th>\n",
       "      <td>1</td>\n",
       "      <td>ACADEMY DINOSAUR</td>\n",
       "    </tr>\n",
       "    <tr>\n",
       "      <th>1</th>\n",
       "      <td>6</td>\n",
       "      <td>AGENT TRUMAN</td>\n",
       "    </tr>\n",
       "    <tr>\n",
       "      <th>2</th>\n",
       "      <td>12</td>\n",
       "      <td>ALASKA PHANTOM</td>\n",
       "    </tr>\n",
       "    <tr>\n",
       "      <th>3</th>\n",
       "      <td>13</td>\n",
       "      <td>ALI FOREVER</td>\n",
       "    </tr>\n",
       "    <tr>\n",
       "      <th>4</th>\n",
       "      <td>19</td>\n",
       "      <td>AMADEUS HOLY</td>\n",
       "    </tr>\n",
       "    <tr>\n",
       "      <th>...</th>\n",
       "      <td>...</td>\n",
       "      <td>...</td>\n",
       "    </tr>\n",
       "    <tr>\n",
       "      <th>189</th>\n",
       "      <td>980</td>\n",
       "      <td>WIZARD COLDBLOODED</td>\n",
       "    </tr>\n",
       "    <tr>\n",
       "      <th>190</th>\n",
       "      <td>983</td>\n",
       "      <td>WON DARES</td>\n",
       "    </tr>\n",
       "    <tr>\n",
       "      <th>191</th>\n",
       "      <td>985</td>\n",
       "      <td>WONDERLAND CHRISTMAS</td>\n",
       "    </tr>\n",
       "    <tr>\n",
       "      <th>192</th>\n",
       "      <td>987</td>\n",
       "      <td>WORDS HUNTER</td>\n",
       "    </tr>\n",
       "    <tr>\n",
       "      <th>193</th>\n",
       "      <td>991</td>\n",
       "      <td>WORST BANGER</td>\n",
       "    </tr>\n",
       "  </tbody>\n",
       "</table>\n",
       "<p>194 rows × 2 columns</p>\n",
       "</div>"
      ],
      "text/plain": [
       "     film_id                 Title\n",
       "0          1      ACADEMY DINOSAUR\n",
       "1          6          AGENT TRUMAN\n",
       "2         12        ALASKA PHANTOM\n",
       "3         13           ALI FOREVER\n",
       "4         19          AMADEUS HOLY\n",
       "..       ...                   ...\n",
       "189      980    WIZARD COLDBLOODED\n",
       "190      983             WON DARES\n",
       "191      985  WONDERLAND CHRISTMAS\n",
       "192      987          WORDS HUNTER\n",
       "193      991          WORST BANGER\n",
       "\n",
       "[194 rows x 2 columns]"
      ]
     },
     "execution_count": 38,
     "metadata": {},
     "output_type": "execute_result"
    }
   ],
   "source": [
    "table2 = pd.read_sql(\"\"\"\n",
    "\n",
    "SELECT \n",
    "    film_id\n",
    "    ,title AS Title\n",
    "FROM film\n",
    "WHERE rating = 'PG'; \n",
    "\n",
    "\"\"\", connection)\n",
    "\n",
    "table2"
   ]
  },
  {
   "cell_type": "markdown",
   "metadata": {
    "papermill": {
     "duration": 0.064481,
     "end_time": "2024-07-29T13:40:56.330329",
     "exception": false,
     "start_time": "2024-07-29T13:40:56.265848",
     "status": "completed"
    },
    "tags": []
   },
   "source": [
    "We will now use Python's merge() function to JOIN these two tables on a specified column, in this case film_id.\n",
    "In case the names of the columns are different in the two tables, we can specify left_on and right_on."
   ]
  },
  {
   "cell_type": "code",
   "execution_count": 39,
   "metadata": {
    "execution": {
     "iopub.execute_input": "2024-07-29T13:40:56.467625Z",
     "iopub.status.busy": "2024-07-29T13:40:56.466899Z",
     "iopub.status.idle": "2024-07-29T13:40:56.484337Z",
     "shell.execute_reply": "2024-07-29T13:40:56.483504Z"
    },
    "papermill": {
     "duration": 0.089537,
     "end_time": "2024-07-29T13:40:56.484512",
     "exception": false,
     "start_time": "2024-07-29T13:40:56.394975",
     "status": "completed"
    },
    "tags": []
   },
   "outputs": [
    {
     "data": {
      "text/html": [
       "<div>\n",
       "<style scoped>\n",
       "    .dataframe tbody tr th:only-of-type {\n",
       "        vertical-align: middle;\n",
       "    }\n",
       "\n",
       "    .dataframe tbody tr th {\n",
       "        vertical-align: top;\n",
       "    }\n",
       "\n",
       "    .dataframe thead th {\n",
       "        text-align: right;\n",
       "    }\n",
       "</style>\n",
       "<table border=\"1\" class=\"dataframe\">\n",
       "  <thead>\n",
       "    <tr style=\"text-align: right;\">\n",
       "      <th></th>\n",
       "      <th>inventory_id</th>\n",
       "      <th>Title</th>\n",
       "    </tr>\n",
       "  </thead>\n",
       "  <tbody>\n",
       "    <tr>\n",
       "      <th>0</th>\n",
       "      <td>1</td>\n",
       "      <td>ACADEMY DINOSAUR</td>\n",
       "    </tr>\n",
       "    <tr>\n",
       "      <th>1</th>\n",
       "      <td>2</td>\n",
       "      <td>ACADEMY DINOSAUR</td>\n",
       "    </tr>\n",
       "    <tr>\n",
       "      <th>2</th>\n",
       "      <td>3</td>\n",
       "      <td>ACADEMY DINOSAUR</td>\n",
       "    </tr>\n",
       "    <tr>\n",
       "      <th>3</th>\n",
       "      <td>4</td>\n",
       "      <td>ACADEMY DINOSAUR</td>\n",
       "    </tr>\n",
       "    <tr>\n",
       "      <th>4</th>\n",
       "      <td>5</td>\n",
       "      <td>ACADEMY DINOSAUR</td>\n",
       "    </tr>\n",
       "    <tr>\n",
       "      <th>5</th>\n",
       "      <td>6</td>\n",
       "      <td>ACADEMY DINOSAUR</td>\n",
       "    </tr>\n",
       "    <tr>\n",
       "      <th>6</th>\n",
       "      <td>7</td>\n",
       "      <td>ACADEMY DINOSAUR</td>\n",
       "    </tr>\n",
       "    <tr>\n",
       "      <th>7</th>\n",
       "      <td>8</td>\n",
       "      <td>ACADEMY DINOSAUR</td>\n",
       "    </tr>\n",
       "    <tr>\n",
       "      <th>8</th>\n",
       "      <td>26</td>\n",
       "      <td>AGENT TRUMAN</td>\n",
       "    </tr>\n",
       "    <tr>\n",
       "      <th>9</th>\n",
       "      <td>27</td>\n",
       "      <td>AGENT TRUMAN</td>\n",
       "    </tr>\n",
       "    <tr>\n",
       "      <th>10</th>\n",
       "      <td>28</td>\n",
       "      <td>AGENT TRUMAN</td>\n",
       "    </tr>\n",
       "    <tr>\n",
       "      <th>11</th>\n",
       "      <td>29</td>\n",
       "      <td>AGENT TRUMAN</td>\n",
       "    </tr>\n",
       "    <tr>\n",
       "      <th>12</th>\n",
       "      <td>30</td>\n",
       "      <td>AGENT TRUMAN</td>\n",
       "    </tr>\n",
       "    <tr>\n",
       "      <th>13</th>\n",
       "      <td>31</td>\n",
       "      <td>AGENT TRUMAN</td>\n",
       "    </tr>\n",
       "    <tr>\n",
       "      <th>14</th>\n",
       "      <td>60</td>\n",
       "      <td>ALASKA PHANTOM</td>\n",
       "    </tr>\n",
       "    <tr>\n",
       "      <th>15</th>\n",
       "      <td>61</td>\n",
       "      <td>ALASKA PHANTOM</td>\n",
       "    </tr>\n",
       "    <tr>\n",
       "      <th>16</th>\n",
       "      <td>62</td>\n",
       "      <td>ALASKA PHANTOM</td>\n",
       "    </tr>\n",
       "    <tr>\n",
       "      <th>17</th>\n",
       "      <td>63</td>\n",
       "      <td>ALASKA PHANTOM</td>\n",
       "    </tr>\n",
       "    <tr>\n",
       "      <th>18</th>\n",
       "      <td>64</td>\n",
       "      <td>ALASKA PHANTOM</td>\n",
       "    </tr>\n",
       "    <tr>\n",
       "      <th>19</th>\n",
       "      <td>65</td>\n",
       "      <td>ALASKA PHANTOM</td>\n",
       "    </tr>\n",
       "  </tbody>\n",
       "</table>\n",
       "</div>"
      ],
      "text/plain": [
       "    inventory_id             Title\n",
       "0              1  ACADEMY DINOSAUR\n",
       "1              2  ACADEMY DINOSAUR\n",
       "2              3  ACADEMY DINOSAUR\n",
       "3              4  ACADEMY DINOSAUR\n",
       "4              5  ACADEMY DINOSAUR\n",
       "5              6  ACADEMY DINOSAUR\n",
       "6              7  ACADEMY DINOSAUR\n",
       "7              8  ACADEMY DINOSAUR\n",
       "8             26      AGENT TRUMAN\n",
       "9             27      AGENT TRUMAN\n",
       "10            28      AGENT TRUMAN\n",
       "11            29      AGENT TRUMAN\n",
       "12            30      AGENT TRUMAN\n",
       "13            31      AGENT TRUMAN\n",
       "14            60    ALASKA PHANTOM\n",
       "15            61    ALASKA PHANTOM\n",
       "16            62    ALASKA PHANTOM\n",
       "17            63    ALASKA PHANTOM\n",
       "18            64    ALASKA PHANTOM\n",
       "19            65    ALASKA PHANTOM"
      ]
     },
     "execution_count": 39,
     "metadata": {},
     "output_type": "execute_result"
    }
   ],
   "source": [
    "table3 = table1.merge(table2, on = \"film_id\", how =\"inner\").drop(\"film_id\", axis = 1)\n",
    "# once the merge is done on the film_id column, it is not needed and is thus dropped\n",
    "table3.head(20)"
   ]
  },
  {
   "cell_type": "markdown",
   "metadata": {
    "papermill": {
     "duration": 0.06519,
     "end_time": "2024-07-29T13:40:56.616270",
     "exception": false,
     "start_time": "2024-07-29T13:40:56.551080",
     "status": "completed"
    },
    "tags": []
   },
   "source": [
    "We can now group by the title and get the corresponding count of items. Columns are renamed to create the same table as above."
   ]
  },
  {
   "cell_type": "code",
   "execution_count": 40,
   "metadata": {
    "execution": {
     "iopub.execute_input": "2024-07-29T13:40:56.770582Z",
     "iopub.status.busy": "2024-07-29T13:40:56.756271Z",
     "iopub.status.idle": "2024-07-29T13:40:56.775273Z",
     "shell.execute_reply": "2024-07-29T13:40:56.774654Z"
    },
    "papermill": {
     "duration": 0.093958,
     "end_time": "2024-07-29T13:40:56.775439",
     "exception": false,
     "start_time": "2024-07-29T13:40:56.681481",
     "status": "completed"
    },
    "scrolled": true,
    "tags": []
   },
   "outputs": [
    {
     "data": {
      "text/html": [
       "<div>\n",
       "<style scoped>\n",
       "    .dataframe tbody tr th:only-of-type {\n",
       "        vertical-align: middle;\n",
       "    }\n",
       "\n",
       "    .dataframe tbody tr th {\n",
       "        vertical-align: top;\n",
       "    }\n",
       "\n",
       "    .dataframe thead th {\n",
       "        text-align: right;\n",
       "    }\n",
       "</style>\n",
       "<table border=\"1\" class=\"dataframe\">\n",
       "  <thead>\n",
       "    <tr style=\"text-align: right;\">\n",
       "      <th></th>\n",
       "      <th>Title</th>\n",
       "      <th>Count</th>\n",
       "    </tr>\n",
       "  </thead>\n",
       "  <tbody>\n",
       "    <tr>\n",
       "      <th>0</th>\n",
       "      <td>ACADEMY DINOSAUR</td>\n",
       "      <td>8</td>\n",
       "    </tr>\n",
       "    <tr>\n",
       "      <th>1</th>\n",
       "      <td>BOUND CHEAPER</td>\n",
       "      <td>8</td>\n",
       "    </tr>\n",
       "    <tr>\n",
       "      <th>2</th>\n",
       "      <td>BUCKET BROTHERHOOD</td>\n",
       "      <td>8</td>\n",
       "    </tr>\n",
       "    <tr>\n",
       "      <th>3</th>\n",
       "      <td>EXPENDABLE STALLION</td>\n",
       "      <td>8</td>\n",
       "    </tr>\n",
       "    <tr>\n",
       "      <th>4</th>\n",
       "      <td>FROST HEAD</td>\n",
       "      <td>8</td>\n",
       "    </tr>\n",
       "    <tr>\n",
       "      <th>...</th>\n",
       "      <td>...</td>\n",
       "      <td>...</td>\n",
       "    </tr>\n",
       "    <tr>\n",
       "      <th>178</th>\n",
       "      <td>PRIVATE DROP</td>\n",
       "      <td>2</td>\n",
       "    </tr>\n",
       "    <tr>\n",
       "      <th>179</th>\n",
       "      <td>PUNK DIVORCE</td>\n",
       "      <td>2</td>\n",
       "    </tr>\n",
       "    <tr>\n",
       "      <th>180</th>\n",
       "      <td>RECORDS ZORRO</td>\n",
       "      <td>2</td>\n",
       "    </tr>\n",
       "    <tr>\n",
       "      <th>181</th>\n",
       "      <td>TEQUILA PAST</td>\n",
       "      <td>2</td>\n",
       "    </tr>\n",
       "    <tr>\n",
       "      <th>182</th>\n",
       "      <td>TREATMENT JEKYLL</td>\n",
       "      <td>2</td>\n",
       "    </tr>\n",
       "  </tbody>\n",
       "</table>\n",
       "<p>183 rows × 2 columns</p>\n",
       "</div>"
      ],
      "text/plain": [
       "                   Title  Count\n",
       "0       ACADEMY DINOSAUR      8\n",
       "1          BOUND CHEAPER      8\n",
       "2     BUCKET BROTHERHOOD      8\n",
       "3    EXPENDABLE STALLION      8\n",
       "4             FROST HEAD      8\n",
       "..                   ...    ...\n",
       "178         PRIVATE DROP      2\n",
       "179         PUNK DIVORCE      2\n",
       "180        RECORDS ZORRO      2\n",
       "181         TEQUILA PAST      2\n",
       "182     TREATMENT JEKYLL      2\n",
       "\n",
       "[183 rows x 2 columns]"
      ]
     },
     "execution_count": 40,
     "metadata": {},
     "output_type": "execute_result"
    }
   ],
   "source": [
    "table3.groupby(\"Title\").count().rename(columns = {\"inventory_id\": \"Count\"}).sort_values(by = [\"Count\", \"Title\"], ascending=[False, True]).reset_index()"
   ]
  },
  {
   "cell_type": "markdown",
   "metadata": {
    "papermill": {
     "duration": 0.067612,
     "end_time": "2024-07-29T13:40:56.908613",
     "exception": false,
     "start_time": "2024-07-29T13:40:56.841001",
     "status": "completed"
    },
    "tags": []
   },
   "source": [
    "We get the same result as above. As we see, JOINing in SQL and merge()ing in Python are equivalent ways to combine data from two tables together."
   ]
  },
  {
   "cell_type": "markdown",
   "metadata": {
    "papermill": {
     "duration": 0.068636,
     "end_time": "2024-07-29T13:40:57.044894",
     "exception": false,
     "start_time": "2024-07-29T13:40:56.976258",
     "status": "completed"
    },
    "tags": []
   },
   "source": [
    "## Thank you for reading my notebook!\n",
    "I would appreciate any comments and suggestions regarding the contents of this notebook.\n",
    "\n",
    "Happy SQL learning!"
   ]
  }
 ],
 "metadata": {
  "kaggle": {
   "accelerator": "none",
   "dataSources": [
    {
     "datasetId": 1210698,
     "sourceId": 2022748,
     "sourceType": "datasetVersion"
    }
   ],
   "dockerImageVersionId": 30066,
   "isGpuEnabled": false,
   "isInternetEnabled": false,
   "language": "python",
   "sourceType": "notebook"
  },
  "kernelspec": {
   "display_name": "Python 3",
   "language": "python",
   "name": "python3"
  },
  "language_info": {
   "codemirror_mode": {
    "name": "ipython",
    "version": 3
   },
   "file_extension": ".py",
   "mimetype": "text/x-python",
   "name": "python",
   "nbconvert_exporter": "python",
   "pygments_lexer": "ipython3",
   "version": "3.7.9"
  },
  "papermill": {
   "default_parameters": {},
   "duration": 19.212672,
   "end_time": "2024-07-29T13:40:57.721648",
   "environment_variables": {},
   "exception": null,
   "input_path": "__notebook__.ipynb",
   "output_path": "__notebook__.ipynb",
   "parameters": {},
   "start_time": "2024-07-29T13:40:38.508976",
   "version": "2.2.2"
  }
 },
 "nbformat": 4,
 "nbformat_minor": 4
}
